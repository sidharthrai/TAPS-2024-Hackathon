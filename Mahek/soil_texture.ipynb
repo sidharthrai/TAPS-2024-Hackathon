{
 "cells": [
  {
   "cell_type": "code",
   "execution_count": null,
   "id": "8025cf56-8a85-42a7-a66f-f3214abb0b80",
   "metadata": {},
   "outputs": [],
   "source": [
    "import dash\n",
    "from dash import dcc, html, Input, Output\n",
    "import geopandas as gpd\n",
    "import plotly.graph_objects as go\n",
    "import rioxarray  # For raster clipping\n",
    "from scipy.interpolate import griddata\n",
    "import numpy as np\n",
    "import xarray as xr\n",
    "import pandas as pd\n",
    "from shapely.geometry import Point"
   ]
  },
  {
   "cell_type": "code",
   "execution_count": null,
   "id": "cc6d5076-e4f9-456a-9324-a5134d0455f9",
   "metadata": {},
   "outputs": [],
   "source": [
    "# Load EC data and create GeoDataFrame\n",
    "soil_analysis = pd.read_excel(\"../Data/soil_analysis/24 KSU TAPS Soil texture.xlsx\", skiprows=1)\n",
    "geometry = [Point(xy) for xy in zip(soil_analysis['Lng'], soil_analysis['Lat'])]\n",
    "soil_analysis_data = gpd.GeoDataFrame(soil_analysis, geometry=geometry)\n",
    "soil_analysis_data.set_crs(\"EPSG:4326\", inplace=True)"
   ]
  },
  {
   "cell_type": "code",
   "execution_count": null,
   "id": "89a3f3a8-89f2-43f0-8515-9c39713aa177",
   "metadata": {},
   "outputs": [],
   "source": [
    "soil_analysis_data['Soil Textural Class'].unique()"
   ]
  },
  {
   "cell_type": "code",
   "execution_count": null,
   "id": "b37d85e1-1e67-42c4-bab9-f0fc276adf7b",
   "metadata": {},
   "outputs": [],
   "source": [
    "# Load plot boundary shapefile\n",
    "plot_boundary = gpd.read_file(\"../Data/plot_boundaries/Map with all plots/2024_Colby_TAPS_Harvest_Area.shx\")\n",
    "\n",
    "# Interpolate EC Shallow and Deep\n",
    "points = np.array(list(zip(soil_analysis_data.geometry.x, soil_analysis_data.geometry.y)))\n",
    "soil_texture = soil_analysis_data['Soil Textural Class'].values\n",
    "\n",
    "#reclasify the values\n",
    "def soil_texture_reclasify(soil_texture):\n",
    "    def reclassify(value):\n",
    "        if value == 'Silty Clay Loam':\n",
    "            return 1\n",
    "        elif value == 'Silt Loam':\n",
    "            return 2\n",
    "        elif value == 'Clay Loam':\n",
    "            return 3\n",
    "        else:\n",
    "            return 0\n",
    "    reclassify_vectorized = np.vectorize(reclassify)\n",
    "    reclassified_data = reclassify_vectorized(soil_texture)\n",
    "    return reclassified_data\n",
    "soil_analysis_data['reclassified_soil_texture'] = soil_texture_reclasify(soil_texture)\n",
    "reclassify_soil_texture = soil_analysis_data['reclassified_soil_texture']"
   ]
  },
  {
   "cell_type": "code",
   "execution_count": null,
   "id": "2cf05253-e0eb-4154-8a9a-b9edbf5d77a5",
   "metadata": {},
   "outputs": [],
   "source": [
    "def soil_texture_reverse_clasify(soil_texture):\n",
    "    def reclassify(value):\n",
    "        if value == 1:\n",
    "            return 'Silty Clay Loam'\n",
    "        elif value == 2:\n",
    "            return 'Silt Loam'\n",
    "        elif value == 3:\n",
    "            return 'Clay Loam'\n",
    "        else:\n",
    "            return nan \n",
    "    reclassify_vectorized = np.vectorize(reclassify)\n",
    "    reclassified_data = reclassify_vectorized(soil_texture)\n",
    "    return reclassified_data"
   ]
  },
  {
   "cell_type": "code",
   "execution_count": null,
   "id": "5bc5a8e8-b310-4fe7-85d2-219ca635f4e0",
   "metadata": {},
   "outputs": [],
   "source": [
    "# Define grid parameters for interpolation\n",
    "x_min, x_max = points[:, 0].min(), points[:, 0].max()\n",
    "y_min, y_max = points[:, 1].min(), points[:, 1].max()\n",
    "grid_x, grid_y = np.mgrid[x_min:x_max:200j, y_min:y_max:200j]\n",
    "\n",
    "# Interpolated grids\n",
    "grid_z = griddata(points, reclassify_soil_texture, (grid_x, grid_y), method='nearest').astype(int)\n",
    "grid_z_string = soil_texture_reverse_clasify(grid_z_values)\n",
    "# Convert interpolated grids to xarray DataArrays for clipping\n",
    "soil_texture_da = xr.DataArray(grid_z, dims=(\"y\", \"x\"), \n",
    "                             coords={\"y\": np.linspace(y_min, y_max, grid_y.shape[1]), \n",
    "                                     \"x\": np.linspace(x_min, x_max, grid_x.shape[0])})\n",
    "\n",
    "# Set CRS to match the plot boundary CRS\n",
    "soil_texture_da.rio.set_crs(\"EPSG:4326\")"
   ]
  },
  {
   "cell_type": "code",
   "execution_count": null,
   "id": "35709d3e-6049-4de3-82d4-c05eb94c36e0",
   "metadata": {},
   "outputs": [],
   "source": [
    "fig = go.Figure()\n",
    "\n",
    "selected_plot = plot_boundary.index[0]\n",
    "# Extract selected plot boundary\n",
    "selected_boundary = plot_boundary.loc[[selected_plot], 'geometry']\n",
    "\n",
    "# Clip EC shallow and deep rasters to the selected plot boundary\n",
    "soil_texture_clipped = soil_texture_da.rio.clip(selected_boundary.geometry, drop=True,all_touched = True)"
   ]
  },
  {
   "cell_type": "code",
   "execution_count": null,
   "id": "b9371968-b80a-4b66-85ba-15f7ba5e7754",
   "metadata": {},
   "outputs": [],
   "source": [
    "# Plot EC Shallow\n",
    "fig.add_trace(go.Heatmap(\n",
    "    z=soil_texture_clipped.values,\n",
    "    x=soil_texture_clipped.coords['x'].values,\n",
    "    y=soil_texture_clipped.coords['y'].values,\n",
    "    colorscale=\"ylorbr\",\n",
    "    colorbar=dict(title=\"Soil Texture\"),\n",
    "    zsmooth=\"best\"))\n",
    "\n",
    "# Add plot boundary outline\n",
    "boundary_x, boundary_y = list(selected_boundary.geometry.iloc[0].exterior.xy[0]), list(selected_boundary.geometry.iloc[0].exterior.xy[1])\n",
    "fig.add_trace(go.Scatter(\n",
    "    x=boundary_x,\n",
    "    y=boundary_y,\n",
    "    mode=\"lines\",\n",
    "    line=dict(color=\"black\", width=2),\n",
    "    name=\"Plot Boundary\"))\n",
    "\n",
    "# Update layout\n",
    "fig.update_layout(\n",
    "    title=f\"Clipped Soil Texture for Plot {selected_plot}\",\n",
    "    xaxis_title=\"Longitude\",\n",
    "    yaxis_title=\"Latitude\",\n",
    "    template=\"plotly_white\")"
   ]
  },
  {
   "cell_type": "code",
   "execution_count": null,
   "id": "338ecff9-442a-4456-a7fd-6eba38454354",
   "metadata": {},
   "outputs": [],
   "source": []
  },
  {
   "cell_type": "code",
   "execution_count": null,
   "id": "a8a8f797-0a1c-4e1c-997b-2eb31322f571",
   "metadata": {},
   "outputs": [],
   "source": []
  }
 ],
 "metadata": {
  "kernelspec": {
   "display_name": "Python 3 (ipykernel)",
   "language": "python",
   "name": "python3"
  },
  "language_info": {
   "codemirror_mode": {
    "name": "ipython",
    "version": 3
   },
   "file_extension": ".py",
   "mimetype": "text/x-python",
   "name": "python",
   "nbconvert_exporter": "python",
   "pygments_lexer": "ipython3",
   "version": "3.12.4"
  }
 },
 "nbformat": 4,
 "nbformat_minor": 5
}
