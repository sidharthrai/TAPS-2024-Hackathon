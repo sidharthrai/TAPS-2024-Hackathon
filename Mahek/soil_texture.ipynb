{
 "cells": [
  {
   "cell_type": "code",
   "execution_count": 2,
   "id": "8025cf56-8a85-42a7-a66f-f3214abb0b80",
   "metadata": {},
   "outputs": [
    {
     "name": "stderr",
     "output_type": "stream",
     "text": [
      "/Users/sidharthrai/Documents/hackathone_2024/vEnv/lib/python3.9/site-packages/urllib3/__init__.py:35: NotOpenSSLWarning: urllib3 v2 only supports OpenSSL 1.1.1+, currently the 'ssl' module is compiled with 'LibreSSL 2.8.3'. See: https://github.com/urllib3/urllib3/issues/3020\n",
      "  warnings.warn(\n"
     ]
    }
   ],
   "source": [
    "import dash\n",
    "from dash import dcc, html, Input, Output\n",
    "import geopandas as gpd\n",
    "import plotly.graph_objects as go\n",
    "import rioxarray  # For raster clipping\n",
    "from scipy.interpolate import griddata\n",
    "import numpy as np\n",
    "import xarray as xr\n",
    "import pandas as pd\n",
    "from shapely.geometry import Point"
   ]
  },
  {
   "cell_type": "code",
   "execution_count": 3,
   "id": "cc6d5076-e4f9-456a-9324-a5134d0455f9",
   "metadata": {},
   "outputs": [
    {
     "data": {
      "text/html": [
       "<div>\n",
       "<style scoped>\n",
       "    .dataframe tbody tr th:only-of-type {\n",
       "        vertical-align: middle;\n",
       "    }\n",
       "\n",
       "    .dataframe tbody tr th {\n",
       "        vertical-align: top;\n",
       "    }\n",
       "\n",
       "    .dataframe thead th {\n",
       "        text-align: right;\n",
       "    }\n",
       "</style>\n",
       "<table border=\"1\" class=\"dataframe\">\n",
       "  <thead>\n",
       "    <tr style=\"text-align: right;\">\n",
       "      <th></th>\n",
       "      <th>Plot ID</th>\n",
       "      <th>Lat</th>\n",
       "      <th>Lng</th>\n",
       "      <th>Lab_ID</th>\n",
       "      <th>Sample ID</th>\n",
       "      <th>Sample Depth (in)</th>\n",
       "      <th>OMC (%)</th>\n",
       "      <th>Soil Textural Class</th>\n",
       "      <th>Sand (%)</th>\n",
       "      <th>Silt (%)</th>\n",
       "      <th>Clay (%)</th>\n",
       "      <th>geometry</th>\n",
       "    </tr>\n",
       "  </thead>\n",
       "  <tbody>\n",
       "    <tr>\n",
       "      <th>0</th>\n",
       "      <td>301</td>\n",
       "      <td>39.385176</td>\n",
       "      <td>-101.066205</td>\n",
       "      <td>119912</td>\n",
       "      <td>1</td>\n",
       "      <td>0 - 12</td>\n",
       "      <td>3.3</td>\n",
       "      <td>Silty Clay Loam</td>\n",
       "      <td>17.6</td>\n",
       "      <td>54.9</td>\n",
       "      <td>27.5</td>\n",
       "      <td>POINT (-101.06621 39.38518)</td>\n",
       "    </tr>\n",
       "    <tr>\n",
       "      <th>1</th>\n",
       "      <td>301</td>\n",
       "      <td>39.385176</td>\n",
       "      <td>-101.066205</td>\n",
       "      <td>119913</td>\n",
       "      <td>2</td>\n",
       "      <td>12 - 24</td>\n",
       "      <td>0.9</td>\n",
       "      <td>Silty Clay Loam</td>\n",
       "      <td>18.9</td>\n",
       "      <td>53.6</td>\n",
       "      <td>27.5</td>\n",
       "      <td>POINT (-101.06621 39.38518)</td>\n",
       "    </tr>\n",
       "    <tr>\n",
       "      <th>2</th>\n",
       "      <td>301</td>\n",
       "      <td>39.385176</td>\n",
       "      <td>-101.066205</td>\n",
       "      <td>119914</td>\n",
       "      <td>3</td>\n",
       "      <td>24 - 36</td>\n",
       "      <td>1.0</td>\n",
       "      <td>Silty Clay Loam</td>\n",
       "      <td>18.0</td>\n",
       "      <td>53.4</td>\n",
       "      <td>28.6</td>\n",
       "      <td>POINT (-101.06621 39.38518)</td>\n",
       "    </tr>\n",
       "    <tr>\n",
       "      <th>3</th>\n",
       "      <td>301</td>\n",
       "      <td>39.385176</td>\n",
       "      <td>-101.066205</td>\n",
       "      <td>119915</td>\n",
       "      <td>4</td>\n",
       "      <td>36 - 48</td>\n",
       "      <td>0.9</td>\n",
       "      <td>Silt Loam</td>\n",
       "      <td>19.2</td>\n",
       "      <td>58.4</td>\n",
       "      <td>22.4</td>\n",
       "      <td>POINT (-101.06621 39.38518)</td>\n",
       "    </tr>\n",
       "    <tr>\n",
       "      <th>4</th>\n",
       "      <td>301</td>\n",
       "      <td>39.385176</td>\n",
       "      <td>-101.066205</td>\n",
       "      <td>119916</td>\n",
       "      <td>5</td>\n",
       "      <td>48 - 60</td>\n",
       "      <td>0.9</td>\n",
       "      <td>Silt Loam</td>\n",
       "      <td>20.5</td>\n",
       "      <td>60.9</td>\n",
       "      <td>18.6</td>\n",
       "      <td>POINT (-101.06621 39.38518)</td>\n",
       "    </tr>\n",
       "    <tr>\n",
       "      <th>...</th>\n",
       "      <td>...</td>\n",
       "      <td>...</td>\n",
       "      <td>...</td>\n",
       "      <td>...</td>\n",
       "      <td>...</td>\n",
       "      <td>...</td>\n",
       "      <td>...</td>\n",
       "      <td>...</td>\n",
       "      <td>...</td>\n",
       "      <td>...</td>\n",
       "      <td>...</td>\n",
       "      <td>...</td>\n",
       "    </tr>\n",
       "    <tr>\n",
       "      <th>95</th>\n",
       "      <td>2604</td>\n",
       "      <td>39.387034</td>\n",
       "      <td>-101.065067</td>\n",
       "      <td>120007</td>\n",
       "      <td>96</td>\n",
       "      <td>60 - 72</td>\n",
       "      <td>0.7</td>\n",
       "      <td>Silt Loam</td>\n",
       "      <td>20.3</td>\n",
       "      <td>64.8</td>\n",
       "      <td>14.9</td>\n",
       "      <td>POINT (-101.06507 39.38703)</td>\n",
       "    </tr>\n",
       "    <tr>\n",
       "      <th>96</th>\n",
       "      <td>2604</td>\n",
       "      <td>39.387034</td>\n",
       "      <td>-101.065067</td>\n",
       "      <td>120008</td>\n",
       "      <td>97</td>\n",
       "      <td>72 - 84</td>\n",
       "      <td>0.6</td>\n",
       "      <td>Silt Loam</td>\n",
       "      <td>19.0</td>\n",
       "      <td>66.0</td>\n",
       "      <td>15.0</td>\n",
       "      <td>POINT (-101.06507 39.38703)</td>\n",
       "    </tr>\n",
       "    <tr>\n",
       "      <th>97</th>\n",
       "      <td>2604</td>\n",
       "      <td>39.387034</td>\n",
       "      <td>-101.065067</td>\n",
       "      <td>120009</td>\n",
       "      <td>98</td>\n",
       "      <td>84 - 96</td>\n",
       "      <td>0.7</td>\n",
       "      <td>Silt Loam</td>\n",
       "      <td>19.0</td>\n",
       "      <td>68.5</td>\n",
       "      <td>12.5</td>\n",
       "      <td>POINT (-101.06507 39.38703)</td>\n",
       "    </tr>\n",
       "    <tr>\n",
       "      <th>98</th>\n",
       "      <td>2604</td>\n",
       "      <td>39.387034</td>\n",
       "      <td>-101.065067</td>\n",
       "      <td>120010</td>\n",
       "      <td>99</td>\n",
       "      <td>96-108</td>\n",
       "      <td>0.7</td>\n",
       "      <td>Silt Loam</td>\n",
       "      <td>19.1</td>\n",
       "      <td>68.4</td>\n",
       "      <td>12.5</td>\n",
       "      <td>POINT (-101.06507 39.38703)</td>\n",
       "    </tr>\n",
       "    <tr>\n",
       "      <th>99</th>\n",
       "      <td>2604</td>\n",
       "      <td>39.387034</td>\n",
       "      <td>-101.065067</td>\n",
       "      <td>120011</td>\n",
       "      <td>100</td>\n",
       "      <td>108-120</td>\n",
       "      <td>0.6</td>\n",
       "      <td>Silt Loam</td>\n",
       "      <td>18.2</td>\n",
       "      <td>69.4</td>\n",
       "      <td>12.4</td>\n",
       "      <td>POINT (-101.06507 39.38703)</td>\n",
       "    </tr>\n",
       "  </tbody>\n",
       "</table>\n",
       "<p>100 rows × 12 columns</p>\n",
       "</div>"
      ],
      "text/plain": [
       "    Plot ID        Lat         Lng  Lab_ID  Sample ID Sample Depth (in)  \\\n",
       "0       301  39.385176 -101.066205  119912          1            0 - 12   \n",
       "1       301  39.385176 -101.066205  119913          2           12 - 24   \n",
       "2       301  39.385176 -101.066205  119914          3           24 - 36   \n",
       "3       301  39.385176 -101.066205  119915          4           36 - 48   \n",
       "4       301  39.385176 -101.066205  119916          5           48 - 60   \n",
       "..      ...        ...         ...     ...        ...               ...   \n",
       "95     2604  39.387034 -101.065067  120007         96           60 - 72   \n",
       "96     2604  39.387034 -101.065067  120008         97           72 - 84   \n",
       "97     2604  39.387034 -101.065067  120009         98           84 - 96   \n",
       "98     2604  39.387034 -101.065067  120010         99            96-108   \n",
       "99     2604  39.387034 -101.065067  120011        100           108-120   \n",
       "\n",
       "    OMC (%)  Soil Textural Class  Sand (%)  Silt (%)  Clay (%)  \\\n",
       "0        3.3     Silty Clay Loam      17.6      54.9      27.5   \n",
       "1        0.9     Silty Clay Loam      18.9      53.6      27.5   \n",
       "2        1.0     Silty Clay Loam      18.0      53.4      28.6   \n",
       "3        0.9           Silt Loam      19.2      58.4      22.4   \n",
       "4        0.9           Silt Loam      20.5      60.9      18.6   \n",
       "..       ...                 ...       ...       ...       ...   \n",
       "95       0.7           Silt Loam      20.3      64.8      14.9   \n",
       "96       0.6           Silt Loam      19.0      66.0      15.0   \n",
       "97       0.7           Silt Loam      19.0      68.5      12.5   \n",
       "98       0.7           Silt Loam      19.1      68.4      12.5   \n",
       "99       0.6           Silt Loam      18.2      69.4      12.4   \n",
       "\n",
       "                       geometry  \n",
       "0   POINT (-101.06621 39.38518)  \n",
       "1   POINT (-101.06621 39.38518)  \n",
       "2   POINT (-101.06621 39.38518)  \n",
       "3   POINT (-101.06621 39.38518)  \n",
       "4   POINT (-101.06621 39.38518)  \n",
       "..                          ...  \n",
       "95  POINT (-101.06507 39.38703)  \n",
       "96  POINT (-101.06507 39.38703)  \n",
       "97  POINT (-101.06507 39.38703)  \n",
       "98  POINT (-101.06507 39.38703)  \n",
       "99  POINT (-101.06507 39.38703)  \n",
       "\n",
       "[100 rows x 12 columns]"
      ]
     },
     "execution_count": 3,
     "metadata": {},
     "output_type": "execute_result"
    }
   ],
   "source": [
    "# Load EC data and create GeoDataFrame\n",
    "soil_analysis = pd.read_excel(\"../Data/soil_analysis/24 KSU TAPS Soil texture.xlsx\", skiprows=1)\n",
    "geometry = [Point(xy) for xy in zip(soil_analysis['Lng'], soil_analysis['Lat'])]\n",
    "soil_analysis_data = gpd.GeoDataFrame(soil_analysis, geometry=geometry)\n",
    "soil_analysis_data.set_crs(\"EPSG:4326\", inplace=True)"
   ]
  },
  {
   "cell_type": "code",
   "execution_count": 4,
   "id": "89a3f3a8-89f2-43f0-8515-9c39713aa177",
   "metadata": {},
   "outputs": [
    {
     "data": {
      "text/plain": [
       "array(['Silty Clay Loam', 'Silt Loam', 'Clay Loam'], dtype=object)"
      ]
     },
     "execution_count": 4,
     "metadata": {},
     "output_type": "execute_result"
    }
   ],
   "source": [
    "soil_analysis_data['Soil Textural Class'].unique()"
   ]
  },
  {
   "cell_type": "code",
   "execution_count": 5,
   "id": "b37d85e1-1e67-42c4-bab9-f0fc276adf7b",
   "metadata": {},
   "outputs": [],
   "source": [
    "# Load plot boundary shapefile\n",
    "plot_boundary = gpd.read_file(\"../Data/plot_boundaries/Map with all plots/2024_Colby_TAPS_Harvest_Area.shx\")\n",
    "\n",
    "# Interpolate EC Shallow and Deep\n",
    "points = np.array(list(zip(soil_analysis_data.geometry.x, soil_analysis_data.geometry.y)))\n",
    "soil_texture = soil_analysis_data['Soil Textural Class'].values\n",
    "\n",
    "#reclasify the values\n",
    "def soil_texture_reclasify(soil_texture):\n",
    "    def reclassify(value):\n",
    "        if value == 'Silty Clay Loam':\n",
    "            return 1\n",
    "        elif value == 'Silt Loam':\n",
    "            return 2\n",
    "        elif value == 'Clay Loam':\n",
    "            return 3\n",
    "        else:\n",
    "            return 0\n",
    "    reclassify_vectorized = np.vectorize(reclassify)\n",
    "    reclassified_data = reclassify_vectorized(soil_texture)\n",
    "    return reclassified_data\n",
    "soil_analysis_data['reclassified_soil_texture'] = soil_texture_reclasify(soil_texture)\n",
    "reclassify_soil_texture = soil_analysis_data['reclassified_soil_texture']"
   ]
  },
  {
   "cell_type": "code",
   "execution_count": 6,
   "id": "2cf05253-e0eb-4154-8a9a-b9edbf5d77a5",
   "metadata": {},
   "outputs": [],
   "source": [
    "def soil_texture_reverse_clasify(soil_texture):\n",
    "    def reclassify(value):\n",
    "        if value == 1:\n",
    "            return 'Silty Clay Loam'\n",
    "        elif value == 2:\n",
    "            return 'Silt Loam'\n",
    "        elif value == 3:\n",
    "            return 'Clay Loam'\n",
    "        else:\n",
    "            return nan \n",
    "    reclassify_vectorized = np.vectorize(reclassify)\n",
    "    reclassified_data = reclassify_vectorized(soil_texture)\n",
    "    return reclassified_data"
   ]
  },
  {
   "cell_type": "code",
   "execution_count": 7,
   "id": "5bc5a8e8-b310-4fe7-85d2-219ca635f4e0",
   "metadata": {},
   "outputs": [
    {
     "data": {
      "text/html": [
       "<div><svg style=\"position: absolute; width: 0; height: 0; overflow: hidden\">\n",
       "<defs>\n",
       "<symbol id=\"icon-database\" viewBox=\"0 0 32 32\">\n",
       "<path d=\"M16 0c-8.837 0-16 2.239-16 5v4c0 2.761 7.163 5 16 5s16-2.239 16-5v-4c0-2.761-7.163-5-16-5z\"></path>\n",
       "<path d=\"M16 17c-8.837 0-16-2.239-16-5v6c0 2.761 7.163 5 16 5s16-2.239 16-5v-6c0 2.761-7.163 5-16 5z\"></path>\n",
       "<path d=\"M16 26c-8.837 0-16-2.239-16-5v6c0 2.761 7.163 5 16 5s16-2.239 16-5v-6c0 2.761-7.163 5-16 5z\"></path>\n",
       "</symbol>\n",
       "<symbol id=\"icon-file-text2\" viewBox=\"0 0 32 32\">\n",
       "<path d=\"M28.681 7.159c-0.694-0.947-1.662-2.053-2.724-3.116s-2.169-2.030-3.116-2.724c-1.612-1.182-2.393-1.319-2.841-1.319h-15.5c-1.378 0-2.5 1.121-2.5 2.5v27c0 1.378 1.122 2.5 2.5 2.5h23c1.378 0 2.5-1.122 2.5-2.5v-19.5c0-0.448-0.137-1.23-1.319-2.841zM24.543 5.457c0.959 0.959 1.712 1.825 2.268 2.543h-4.811v-4.811c0.718 0.556 1.584 1.309 2.543 2.268zM28 29.5c0 0.271-0.229 0.5-0.5 0.5h-23c-0.271 0-0.5-0.229-0.5-0.5v-27c0-0.271 0.229-0.5 0.5-0.5 0 0 15.499-0 15.5 0v7c0 0.552 0.448 1 1 1h7v19.5z\"></path>\n",
       "<path d=\"M23 26h-14c-0.552 0-1-0.448-1-1s0.448-1 1-1h14c0.552 0 1 0.448 1 1s-0.448 1-1 1z\"></path>\n",
       "<path d=\"M23 22h-14c-0.552 0-1-0.448-1-1s0.448-1 1-1h14c0.552 0 1 0.448 1 1s-0.448 1-1 1z\"></path>\n",
       "<path d=\"M23 18h-14c-0.552 0-1-0.448-1-1s0.448-1 1-1h14c0.552 0 1 0.448 1 1s-0.448 1-1 1z\"></path>\n",
       "</symbol>\n",
       "</defs>\n",
       "</svg>\n",
       "<style>/* CSS stylesheet for displaying xarray objects in jupyterlab.\n",
       " *\n",
       " */\n",
       "\n",
       ":root {\n",
       "  --xr-font-color0: var(--jp-content-font-color0, rgba(0, 0, 0, 1));\n",
       "  --xr-font-color2: var(--jp-content-font-color2, rgba(0, 0, 0, 0.54));\n",
       "  --xr-font-color3: var(--jp-content-font-color3, rgba(0, 0, 0, 0.38));\n",
       "  --xr-border-color: var(--jp-border-color2, #e0e0e0);\n",
       "  --xr-disabled-color: var(--jp-layout-color3, #bdbdbd);\n",
       "  --xr-background-color: var(--jp-layout-color0, white);\n",
       "  --xr-background-color-row-even: var(--jp-layout-color1, white);\n",
       "  --xr-background-color-row-odd: var(--jp-layout-color2, #eeeeee);\n",
       "}\n",
       "\n",
       "html[theme=dark],\n",
       "html[data-theme=dark],\n",
       "body[data-theme=dark],\n",
       "body.vscode-dark {\n",
       "  --xr-font-color0: rgba(255, 255, 255, 1);\n",
       "  --xr-font-color2: rgba(255, 255, 255, 0.54);\n",
       "  --xr-font-color3: rgba(255, 255, 255, 0.38);\n",
       "  --xr-border-color: #1F1F1F;\n",
       "  --xr-disabled-color: #515151;\n",
       "  --xr-background-color: #111111;\n",
       "  --xr-background-color-row-even: #111111;\n",
       "  --xr-background-color-row-odd: #313131;\n",
       "}\n",
       "\n",
       ".xr-wrap {\n",
       "  display: block !important;\n",
       "  min-width: 300px;\n",
       "  max-width: 700px;\n",
       "}\n",
       "\n",
       ".xr-text-repr-fallback {\n",
       "  /* fallback to plain text repr when CSS is not injected (untrusted notebook) */\n",
       "  display: none;\n",
       "}\n",
       "\n",
       ".xr-header {\n",
       "  padding-top: 6px;\n",
       "  padding-bottom: 6px;\n",
       "  margin-bottom: 4px;\n",
       "  border-bottom: solid 1px var(--xr-border-color);\n",
       "}\n",
       "\n",
       ".xr-header > div,\n",
       ".xr-header > ul {\n",
       "  display: inline;\n",
       "  margin-top: 0;\n",
       "  margin-bottom: 0;\n",
       "}\n",
       "\n",
       ".xr-obj-type,\n",
       ".xr-array-name {\n",
       "  margin-left: 2px;\n",
       "  margin-right: 10px;\n",
       "}\n",
       "\n",
       ".xr-obj-type {\n",
       "  color: var(--xr-font-color2);\n",
       "}\n",
       "\n",
       ".xr-sections {\n",
       "  padding-left: 0 !important;\n",
       "  display: grid;\n",
       "  grid-template-columns: 150px auto auto 1fr 20px 20px;\n",
       "}\n",
       "\n",
       ".xr-section-item {\n",
       "  display: contents;\n",
       "}\n",
       "\n",
       ".xr-section-item input {\n",
       "  display: none;\n",
       "}\n",
       "\n",
       ".xr-section-item input + label {\n",
       "  color: var(--xr-disabled-color);\n",
       "}\n",
       "\n",
       ".xr-section-item input:enabled + label {\n",
       "  cursor: pointer;\n",
       "  color: var(--xr-font-color2);\n",
       "}\n",
       "\n",
       ".xr-section-item input:enabled + label:hover {\n",
       "  color: var(--xr-font-color0);\n",
       "}\n",
       "\n",
       ".xr-section-summary {\n",
       "  grid-column: 1;\n",
       "  color: var(--xr-font-color2);\n",
       "  font-weight: 500;\n",
       "}\n",
       "\n",
       ".xr-section-summary > span {\n",
       "  display: inline-block;\n",
       "  padding-left: 0.5em;\n",
       "}\n",
       "\n",
       ".xr-section-summary-in:disabled + label {\n",
       "  color: var(--xr-font-color2);\n",
       "}\n",
       "\n",
       ".xr-section-summary-in + label:before {\n",
       "  display: inline-block;\n",
       "  content: '►';\n",
       "  font-size: 11px;\n",
       "  width: 15px;\n",
       "  text-align: center;\n",
       "}\n",
       "\n",
       ".xr-section-summary-in:disabled + label:before {\n",
       "  color: var(--xr-disabled-color);\n",
       "}\n",
       "\n",
       ".xr-section-summary-in:checked + label:before {\n",
       "  content: '▼';\n",
       "}\n",
       "\n",
       ".xr-section-summary-in:checked + label > span {\n",
       "  display: none;\n",
       "}\n",
       "\n",
       ".xr-section-summary,\n",
       ".xr-section-inline-details {\n",
       "  padding-top: 4px;\n",
       "  padding-bottom: 4px;\n",
       "}\n",
       "\n",
       ".xr-section-inline-details {\n",
       "  grid-column: 2 / -1;\n",
       "}\n",
       "\n",
       ".xr-section-details {\n",
       "  display: none;\n",
       "  grid-column: 1 / -1;\n",
       "  margin-bottom: 5px;\n",
       "}\n",
       "\n",
       ".xr-section-summary-in:checked ~ .xr-section-details {\n",
       "  display: contents;\n",
       "}\n",
       "\n",
       ".xr-array-wrap {\n",
       "  grid-column: 1 / -1;\n",
       "  display: grid;\n",
       "  grid-template-columns: 20px auto;\n",
       "}\n",
       "\n",
       ".xr-array-wrap > label {\n",
       "  grid-column: 1;\n",
       "  vertical-align: top;\n",
       "}\n",
       "\n",
       ".xr-preview {\n",
       "  color: var(--xr-font-color3);\n",
       "}\n",
       "\n",
       ".xr-array-preview,\n",
       ".xr-array-data {\n",
       "  padding: 0 5px !important;\n",
       "  grid-column: 2;\n",
       "}\n",
       "\n",
       ".xr-array-data,\n",
       ".xr-array-in:checked ~ .xr-array-preview {\n",
       "  display: none;\n",
       "}\n",
       "\n",
       ".xr-array-in:checked ~ .xr-array-data,\n",
       ".xr-array-preview {\n",
       "  display: inline-block;\n",
       "}\n",
       "\n",
       ".xr-dim-list {\n",
       "  display: inline-block !important;\n",
       "  list-style: none;\n",
       "  padding: 0 !important;\n",
       "  margin: 0;\n",
       "}\n",
       "\n",
       ".xr-dim-list li {\n",
       "  display: inline-block;\n",
       "  padding: 0;\n",
       "  margin: 0;\n",
       "}\n",
       "\n",
       ".xr-dim-list:before {\n",
       "  content: '(';\n",
       "}\n",
       "\n",
       ".xr-dim-list:after {\n",
       "  content: ')';\n",
       "}\n",
       "\n",
       ".xr-dim-list li:not(:last-child):after {\n",
       "  content: ',';\n",
       "  padding-right: 5px;\n",
       "}\n",
       "\n",
       ".xr-has-index {\n",
       "  font-weight: bold;\n",
       "}\n",
       "\n",
       ".xr-var-list,\n",
       ".xr-var-item {\n",
       "  display: contents;\n",
       "}\n",
       "\n",
       ".xr-var-item > div,\n",
       ".xr-var-item label,\n",
       ".xr-var-item > .xr-var-name span {\n",
       "  background-color: var(--xr-background-color-row-even);\n",
       "  margin-bottom: 0;\n",
       "}\n",
       "\n",
       ".xr-var-item > .xr-var-name:hover span {\n",
       "  padding-right: 5px;\n",
       "}\n",
       "\n",
       ".xr-var-list > li:nth-child(odd) > div,\n",
       ".xr-var-list > li:nth-child(odd) > label,\n",
       ".xr-var-list > li:nth-child(odd) > .xr-var-name span {\n",
       "  background-color: var(--xr-background-color-row-odd);\n",
       "}\n",
       "\n",
       ".xr-var-name {\n",
       "  grid-column: 1;\n",
       "}\n",
       "\n",
       ".xr-var-dims {\n",
       "  grid-column: 2;\n",
       "}\n",
       "\n",
       ".xr-var-dtype {\n",
       "  grid-column: 3;\n",
       "  text-align: right;\n",
       "  color: var(--xr-font-color2);\n",
       "}\n",
       "\n",
       ".xr-var-preview {\n",
       "  grid-column: 4;\n",
       "}\n",
       "\n",
       ".xr-index-preview {\n",
       "  grid-column: 2 / 5;\n",
       "  color: var(--xr-font-color2);\n",
       "}\n",
       "\n",
       ".xr-var-name,\n",
       ".xr-var-dims,\n",
       ".xr-var-dtype,\n",
       ".xr-preview,\n",
       ".xr-attrs dt {\n",
       "  white-space: nowrap;\n",
       "  overflow: hidden;\n",
       "  text-overflow: ellipsis;\n",
       "  padding-right: 10px;\n",
       "}\n",
       "\n",
       ".xr-var-name:hover,\n",
       ".xr-var-dims:hover,\n",
       ".xr-var-dtype:hover,\n",
       ".xr-attrs dt:hover {\n",
       "  overflow: visible;\n",
       "  width: auto;\n",
       "  z-index: 1;\n",
       "}\n",
       "\n",
       ".xr-var-attrs,\n",
       ".xr-var-data,\n",
       ".xr-index-data {\n",
       "  display: none;\n",
       "  background-color: var(--xr-background-color) !important;\n",
       "  padding-bottom: 5px !important;\n",
       "}\n",
       "\n",
       ".xr-var-attrs-in:checked ~ .xr-var-attrs,\n",
       ".xr-var-data-in:checked ~ .xr-var-data,\n",
       ".xr-index-data-in:checked ~ .xr-index-data {\n",
       "  display: block;\n",
       "}\n",
       "\n",
       ".xr-var-data > table {\n",
       "  float: right;\n",
       "}\n",
       "\n",
       ".xr-var-name span,\n",
       ".xr-var-data,\n",
       ".xr-index-name div,\n",
       ".xr-index-data,\n",
       ".xr-attrs {\n",
       "  padding-left: 25px !important;\n",
       "}\n",
       "\n",
       ".xr-attrs,\n",
       ".xr-var-attrs,\n",
       ".xr-var-data,\n",
       ".xr-index-data {\n",
       "  grid-column: 1 / -1;\n",
       "}\n",
       "\n",
       "dl.xr-attrs {\n",
       "  padding: 0;\n",
       "  margin: 0;\n",
       "  display: grid;\n",
       "  grid-template-columns: 125px auto;\n",
       "}\n",
       "\n",
       ".xr-attrs dt,\n",
       ".xr-attrs dd {\n",
       "  padding: 0;\n",
       "  margin: 0;\n",
       "  float: left;\n",
       "  padding-right: 10px;\n",
       "  width: auto;\n",
       "}\n",
       "\n",
       ".xr-attrs dt {\n",
       "  font-weight: normal;\n",
       "  grid-column: 1;\n",
       "}\n",
       "\n",
       ".xr-attrs dt:hover span {\n",
       "  display: inline-block;\n",
       "  background: var(--xr-background-color);\n",
       "  padding-right: 10px;\n",
       "}\n",
       "\n",
       ".xr-attrs dd {\n",
       "  grid-column: 2;\n",
       "  white-space: pre-wrap;\n",
       "  word-break: break-all;\n",
       "}\n",
       "\n",
       ".xr-icon-database,\n",
       ".xr-icon-file-text2,\n",
       ".xr-no-icon {\n",
       "  display: inline-block;\n",
       "  vertical-align: middle;\n",
       "  width: 1em;\n",
       "  height: 1.5em !important;\n",
       "  stroke-width: 0;\n",
       "  stroke: currentColor;\n",
       "  fill: currentColor;\n",
       "}\n",
       "</style><pre class='xr-text-repr-fallback'>&lt;xarray.DataArray (y: 200, x: 200)&gt; Size: 320kB\n",
       "array([[1, 1, 1, ..., 2, 2, 2],\n",
       "       [1, 1, 1, ..., 2, 2, 2],\n",
       "       [1, 1, 1, ..., 2, 2, 2],\n",
       "       ...,\n",
       "       [2, 2, 2, ..., 2, 2, 2],\n",
       "       [2, 2, 2, ..., 2, 2, 2],\n",
       "       [2, 2, 2, ..., 2, 2, 2]])\n",
       "Coordinates:\n",
       "  * y        (y) float64 2kB 39.39 39.39 39.39 39.39 ... 39.39 39.39 39.39 39.39\n",
       "  * x        (x) float64 2kB -101.1 -101.1 -101.1 ... -101.1 -101.1 -101.1</pre><div class='xr-wrap' style='display:none'><div class='xr-header'><div class='xr-obj-type'>xarray.DataArray</div><div class='xr-array-name'></div><ul class='xr-dim-list'><li><span class='xr-has-index'>y</span>: 200</li><li><span class='xr-has-index'>x</span>: 200</li></ul></div><ul class='xr-sections'><li class='xr-section-item'><div class='xr-array-wrap'><input id='section-16075d2f-7eeb-475f-bb25-0d8b2095aec8' class='xr-array-in' type='checkbox' checked><label for='section-16075d2f-7eeb-475f-bb25-0d8b2095aec8' title='Show/hide data repr'><svg class='icon xr-icon-database'><use xlink:href='#icon-database'></use></svg></label><div class='xr-array-preview xr-preview'><span>1 1 1 1 1 1 1 1 1 1 1 1 1 1 1 1 1 ... 2 2 2 2 2 2 2 2 2 2 2 2 2 2 2 2</span></div><div class='xr-array-data'><pre>array([[1, 1, 1, ..., 2, 2, 2],\n",
       "       [1, 1, 1, ..., 2, 2, 2],\n",
       "       [1, 1, 1, ..., 2, 2, 2],\n",
       "       ...,\n",
       "       [2, 2, 2, ..., 2, 2, 2],\n",
       "       [2, 2, 2, ..., 2, 2, 2],\n",
       "       [2, 2, 2, ..., 2, 2, 2]])</pre></div></div></li><li class='xr-section-item'><input id='section-29e51ef3-79fa-4d50-9214-05092f2182e9' class='xr-section-summary-in' type='checkbox'  checked><label for='section-29e51ef3-79fa-4d50-9214-05092f2182e9' class='xr-section-summary' >Coordinates: <span>(2)</span></label><div class='xr-section-inline-details'></div><div class='xr-section-details'><ul class='xr-var-list'><li class='xr-var-item'><div class='xr-var-name'><span class='xr-has-index'>y</span></div><div class='xr-var-dims'>(y)</div><div class='xr-var-dtype'>float64</div><div class='xr-var-preview xr-preview'>39.39 39.39 39.39 ... 39.39 39.39</div><input id='attrs-fdfbb707-d7e8-4be1-ad2e-2193cc5494c5' class='xr-var-attrs-in' type='checkbox' disabled><label for='attrs-fdfbb707-d7e8-4be1-ad2e-2193cc5494c5' title='Show/Hide attributes'><svg class='icon xr-icon-file-text2'><use xlink:href='#icon-file-text2'></use></svg></label><input id='data-5bc58774-2c52-4253-9385-4c9cd444b598' class='xr-var-data-in' type='checkbox'><label for='data-5bc58774-2c52-4253-9385-4c9cd444b598' title='Show/Hide data repr'><svg class='icon xr-icon-database'><use xlink:href='#icon-database'></use></svg></label><div class='xr-var-attrs'><dl class='xr-attrs'></dl></div><div class='xr-var-data'><pre>array([39.385176, 39.385185, 39.385194, 39.385204, 39.385213, 39.385222,\n",
       "       39.385232, 39.385241, 39.38525 , 39.38526 , 39.385269, 39.385278,\n",
       "       39.385288, 39.385297, 39.385306, 39.385316, 39.385325, 39.385334,\n",
       "       39.385344, 39.385353, 39.385362, 39.385372, 39.385381, 39.38539 ,\n",
       "       39.3854  , 39.385409, 39.385418, 39.385428, 39.385437, 39.385446,\n",
       "       39.385456, 39.385465, 39.385474, 39.385484, 39.385493, 39.385502,\n",
       "       39.385512, 39.385521, 39.38553 , 39.38554 , 39.385549, 39.385558,\n",
       "       39.385568, 39.385577, 39.385587, 39.385596, 39.385605, 39.385615,\n",
       "       39.385624, 39.385633, 39.385643, 39.385652, 39.385661, 39.385671,\n",
       "       39.38568 , 39.385689, 39.385699, 39.385708, 39.385717, 39.385727,\n",
       "       39.385736, 39.385745, 39.385755, 39.385764, 39.385773, 39.385783,\n",
       "       39.385792, 39.385801, 39.385811, 39.38582 , 39.385829, 39.385839,\n",
       "       39.385848, 39.385857, 39.385867, 39.385876, 39.385885, 39.385895,\n",
       "       39.385904, 39.385913, 39.385923, 39.385932, 39.385941, 39.385951,\n",
       "       39.38596 , 39.385969, 39.385979, 39.385988, 39.385997, 39.386007,\n",
       "       39.386016, 39.386026, 39.386035, 39.386044, 39.386054, 39.386063,\n",
       "       39.386072, 39.386082, 39.386091, 39.3861  , 39.38611 , 39.386119,\n",
       "       39.386128, 39.386138, 39.386147, 39.386156, 39.386166, 39.386175,\n",
       "       39.386184, 39.386194, 39.386203, 39.386212, 39.386222, 39.386231,\n",
       "       39.38624 , 39.38625 , 39.386259, 39.386268, 39.386278, 39.386287,\n",
       "       39.386296, 39.386306, 39.386315, 39.386324, 39.386334, 39.386343,\n",
       "       39.386352, 39.386362, 39.386371, 39.38638 , 39.38639 , 39.386399,\n",
       "       39.386408, 39.386418, 39.386427, 39.386437, 39.386446, 39.386455,\n",
       "       39.386465, 39.386474, 39.386483, 39.386493, 39.386502, 39.386511,\n",
       "       39.386521, 39.38653 , 39.386539, 39.386549, 39.386558, 39.386567,\n",
       "       39.386577, 39.386586, 39.386595, 39.386605, 39.386614, 39.386623,\n",
       "       39.386633, 39.386642, 39.386651, 39.386661, 39.38667 , 39.386679,\n",
       "       39.386689, 39.386698, 39.386707, 39.386717, 39.386726, 39.386735,\n",
       "       39.386745, 39.386754, 39.386763, 39.386773, 39.386782, 39.386791,\n",
       "       39.386801, 39.38681 , 39.386819, 39.386829, 39.386838, 39.386847,\n",
       "       39.386857, 39.386866, 39.386876, 39.386885, 39.386894, 39.386904,\n",
       "       39.386913, 39.386922, 39.386932, 39.386941, 39.38695 , 39.38696 ,\n",
       "       39.386969, 39.386978, 39.386988, 39.386997, 39.387006, 39.387016,\n",
       "       39.387025, 39.387034])</pre></div></li><li class='xr-var-item'><div class='xr-var-name'><span class='xr-has-index'>x</span></div><div class='xr-var-dims'>(x)</div><div class='xr-var-dtype'>float64</div><div class='xr-var-preview xr-preview'>-101.1 -101.1 ... -101.1 -101.1</div><input id='attrs-70224579-2d92-407b-88ba-787108ad8952' class='xr-var-attrs-in' type='checkbox' disabled><label for='attrs-70224579-2d92-407b-88ba-787108ad8952' title='Show/Hide attributes'><svg class='icon xr-icon-file-text2'><use xlink:href='#icon-file-text2'></use></svg></label><input id='data-e30abc73-2864-4c69-8d72-0104fd0f9469' class='xr-var-data-in' type='checkbox'><label for='data-e30abc73-2864-4c69-8d72-0104fd0f9469' title='Show/Hide data repr'><svg class='icon xr-icon-database'><use xlink:href='#icon-database'></use></svg></label><div class='xr-var-attrs'><dl class='xr-attrs'></dl></div><div class='xr-var-data'><pre>array([-101.066205, -101.066196, -101.066186, -101.066176, -101.066167,\n",
       "       -101.066157, -101.066147, -101.066138, -101.066128, -101.066118,\n",
       "       -101.066109, -101.066099, -101.066089, -101.06608 , -101.06607 ,\n",
       "       -101.066061, -101.066051, -101.066041, -101.066032, -101.066022,\n",
       "       -101.066012, -101.066003, -101.065993, -101.065983, -101.065974,\n",
       "       -101.065964, -101.065954, -101.065945, -101.065935, -101.065926,\n",
       "       -101.065916, -101.065906, -101.065897, -101.065887, -101.065877,\n",
       "       -101.065868, -101.065858, -101.065848, -101.065839, -101.065829,\n",
       "       -101.065819, -101.06581 , -101.0658  , -101.06579 , -101.065781,\n",
       "       -101.065771, -101.065762, -101.065752, -101.065742, -101.065733,\n",
       "       -101.065723, -101.065713, -101.065704, -101.065694, -101.065684,\n",
       "       -101.065675, -101.065665, -101.065655, -101.065646, -101.065636,\n",
       "       -101.065627, -101.065617, -101.065607, -101.065598, -101.065588,\n",
       "       -101.065578, -101.065569, -101.065559, -101.065549, -101.06554 ,\n",
       "       -101.06553 , -101.06552 , -101.065511, -101.065501, -101.065491,\n",
       "       -101.065482, -101.065472, -101.065463, -101.065453, -101.065443,\n",
       "       -101.065434, -101.065424, -101.065414, -101.065405, -101.065395,\n",
       "       -101.065385, -101.065376, -101.065366, -101.065356, -101.065347,\n",
       "       -101.065337, -101.065327, -101.065318, -101.065308, -101.065299,\n",
       "       -101.065289, -101.065279, -101.06527 , -101.06526 , -101.06525 ,\n",
       "       -101.065241, -101.065231, -101.065221, -101.065212, -101.065202,\n",
       "       -101.065192, -101.065183, -101.065173, -101.065164, -101.065154,\n",
       "       -101.065144, -101.065135, -101.065125, -101.065115, -101.065106,\n",
       "       -101.065096, -101.065086, -101.065077, -101.065067, -101.065057,\n",
       "       -101.065048, -101.065038, -101.065028, -101.065019, -101.065009,\n",
       "       -101.065   , -101.06499 , -101.06498 , -101.064971, -101.064961,\n",
       "       -101.064951, -101.064942, -101.064932, -101.064922, -101.064913,\n",
       "       -101.064903, -101.064893, -101.064884, -101.064874, -101.064864,\n",
       "       -101.064855, -101.064845, -101.064836, -101.064826, -101.064816,\n",
       "       -101.064807, -101.064797, -101.064787, -101.064778, -101.064768,\n",
       "       -101.064758, -101.064749, -101.064739, -101.064729, -101.06472 ,\n",
       "       -101.06471 , -101.064701, -101.064691, -101.064681, -101.064672,\n",
       "       -101.064662, -101.064652, -101.064643, -101.064633, -101.064623,\n",
       "       -101.064614, -101.064604, -101.064594, -101.064585, -101.064575,\n",
       "       -101.064565, -101.064556, -101.064546, -101.064537, -101.064527,\n",
       "       -101.064517, -101.064508, -101.064498, -101.064488, -101.064479,\n",
       "       -101.064469, -101.064459, -101.06445 , -101.06444 , -101.06443 ,\n",
       "       -101.064421, -101.064411, -101.064402, -101.064392, -101.064382,\n",
       "       -101.064373, -101.064363, -101.064353, -101.064344, -101.064334,\n",
       "       -101.064324, -101.064315, -101.064305, -101.064295, -101.064286])</pre></div></li></ul></div></li><li class='xr-section-item'><input id='section-0959dd64-ec88-445f-8c4b-fe96e2a8ef1e' class='xr-section-summary-in' type='checkbox'  ><label for='section-0959dd64-ec88-445f-8c4b-fe96e2a8ef1e' class='xr-section-summary' >Indexes: <span>(2)</span></label><div class='xr-section-inline-details'></div><div class='xr-section-details'><ul class='xr-var-list'><li class='xr-var-item'><div class='xr-index-name'><div>y</div></div><div class='xr-index-preview'>PandasIndex</div><div></div><input id='index-2a9330b5-6253-4d04-8ab0-9b23463bf17f' class='xr-index-data-in' type='checkbox'/><label for='index-2a9330b5-6253-4d04-8ab0-9b23463bf17f' title='Show/Hide index repr'><svg class='icon xr-icon-database'><use xlink:href='#icon-database'></use></svg></label><div class='xr-index-data'><pre>PandasIndex(Index([       39.38517552,  39.38518486060301, 39.385194201206026,\n",
       "        39.38520354180904, 39.385212882412056,  39.38522222301507,\n",
       "       39.385231563618085,   39.3852409042211,  39.38525024482412,\n",
       "       39.385259585427136,\n",
       "       ...\n",
       "       39.386950234572865,  39.38695957517588,   39.3869689157789,\n",
       "       39.386978256381916,  39.38698759698493, 39.386996937587945,\n",
       "        39.38700627819096, 39.387015618793974,  39.38702495939699,\n",
       "               39.3870343],\n",
       "      dtype=&#x27;float64&#x27;, name=&#x27;y&#x27;, length=200))</pre></div></li><li class='xr-var-item'><div class='xr-index-name'><div>x</div></div><div class='xr-index-preview'>PandasIndex</div><div></div><input id='index-4e81c9c6-8960-4297-9896-012753ca3e4b' class='xr-index-data-in' type='checkbox'/><label for='index-4e81c9c6-8960-4297-9896-012753ca3e4b' title='Show/Hide index repr'><svg class='icon xr-icon-database'><use xlink:href='#icon-database'></use></svg></label><div class='xr-index-data'><pre>PandasIndex(Index([      -101.06620524, -101.06619559437186, -101.06618594874372,\n",
       "       -101.06617630311558, -101.06616665748744,  -101.0661570118593,\n",
       "       -101.06614736623116, -101.06613772060302, -101.06612807497487,\n",
       "       -101.06611842934673,\n",
       "       ...\n",
       "       -101.06437257065328, -101.06436292502514, -101.06435327939698,\n",
       "       -101.06434363376884,  -101.0643339881407, -101.06432434251256,\n",
       "       -101.06431469688442, -101.06430505125628, -101.06429540562814,\n",
       "             -101.06428576],\n",
       "      dtype=&#x27;float64&#x27;, name=&#x27;x&#x27;, length=200))</pre></div></li></ul></div></li><li class='xr-section-item'><input id='section-1e51df36-0989-47e8-b66f-ec50fa86b829' class='xr-section-summary-in' type='checkbox' disabled ><label for='section-1e51df36-0989-47e8-b66f-ec50fa86b829' class='xr-section-summary'  title='Expand/collapse section'>Attributes: <span>(0)</span></label><div class='xr-section-inline-details'></div><div class='xr-section-details'><dl class='xr-attrs'></dl></div></li></ul></div></div>"
      ],
      "text/plain": [
       "<xarray.DataArray (y: 200, x: 200)> Size: 320kB\n",
       "array([[1, 1, 1, ..., 2, 2, 2],\n",
       "       [1, 1, 1, ..., 2, 2, 2],\n",
       "       [1, 1, 1, ..., 2, 2, 2],\n",
       "       ...,\n",
       "       [2, 2, 2, ..., 2, 2, 2],\n",
       "       [2, 2, 2, ..., 2, 2, 2],\n",
       "       [2, 2, 2, ..., 2, 2, 2]])\n",
       "Coordinates:\n",
       "  * y        (y) float64 2kB 39.39 39.39 39.39 39.39 ... 39.39 39.39 39.39 39.39\n",
       "  * x        (x) float64 2kB -101.1 -101.1 -101.1 ... -101.1 -101.1 -101.1"
      ]
     },
     "execution_count": 7,
     "metadata": {},
     "output_type": "execute_result"
    }
   ],
   "source": [
    "# Define grid parameters for interpolation\n",
    "x_min, x_max = points[:, 0].min(), points[:, 0].max()\n",
    "y_min, y_max = points[:, 1].min(), points[:, 1].max()\n",
    "grid_x, grid_y = np.mgrid[x_min:x_max:200j, y_min:y_max:200j]\n",
    "\n",
    "# Interpolated grids\n",
    "grid_z = griddata(points, reclassify_soil_texture, (grid_x, grid_y), method='nearest').astype(int)\n",
    "# grid_z_string = soil_texture_reverse_clasify(grid_z_values)\n",
    "# Convert interpolated grids to xarray DataArrays for clipping\n",
    "soil_texture_da = xr.DataArray(grid_z, dims=(\"y\", \"x\"), \n",
    "                             coords={\"y\": np.linspace(y_min, y_max, grid_y.shape[1]), \n",
    "                                     \"x\": np.linspace(x_min, x_max, grid_x.shape[0])})\n",
    "\n",
    "# Set CRS to match the plot boundary CRS\n",
    "soil_texture_da.rio.set_crs(\"EPSG:4326\")"
   ]
  },
  {
   "cell_type": "code",
   "execution_count": 8,
   "id": "36a2949d",
   "metadata": {},
   "outputs": [
    {
     "data": {
      "text/html": [
       "<div>\n",
       "<style scoped>\n",
       "    .dataframe tbody tr th:only-of-type {\n",
       "        vertical-align: middle;\n",
       "    }\n",
       "\n",
       "    .dataframe tbody tr th {\n",
       "        vertical-align: top;\n",
       "    }\n",
       "\n",
       "    .dataframe thead th {\n",
       "        text-align: right;\n",
       "    }\n",
       "</style>\n",
       "<table border=\"1\" class=\"dataframe\">\n",
       "  <thead>\n",
       "    <tr style=\"text-align: right;\">\n",
       "      <th></th>\n",
       "      <th>Name</th>\n",
       "      <th>Block_ID</th>\n",
       "      <th>TRT_ID</th>\n",
       "      <th>Plot_ID</th>\n",
       "      <th>geometry</th>\n",
       "    </tr>\n",
       "  </thead>\n",
       "  <tbody>\n",
       "    <tr>\n",
       "      <th>0</th>\n",
       "      <td>Span D</td>\n",
       "      <td>1</td>\n",
       "      <td>15</td>\n",
       "      <td>2502</td>\n",
       "      <td>POLYGON ((-101.06572 39.387, -101.06572 39.386...</td>\n",
       "    </tr>\n",
       "    <tr>\n",
       "      <th>1</th>\n",
       "      <td>Span A</td>\n",
       "      <td>4</td>\n",
       "      <td>27</td>\n",
       "      <td>204</td>\n",
       "      <td>POLYGON ((-101.06495 39.38511, -101.06495 39.3...</td>\n",
       "    </tr>\n",
       "    <tr>\n",
       "      <th>2</th>\n",
       "      <td>Span A</td>\n",
       "      <td>4</td>\n",
       "      <td>30</td>\n",
       "      <td>206</td>\n",
       "      <td>POLYGON ((-101.06417 39.38511, -101.06417 39.3...</td>\n",
       "    </tr>\n",
       "    <tr>\n",
       "      <th>3</th>\n",
       "      <td>Span A</td>\n",
       "      <td>4</td>\n",
       "      <td>2</td>\n",
       "      <td>205</td>\n",
       "      <td>POLYGON ((-101.06456 39.38511, -101.06456 39.3...</td>\n",
       "    </tr>\n",
       "    <tr>\n",
       "      <th>4</th>\n",
       "      <td>Span A</td>\n",
       "      <td>2</td>\n",
       "      <td>14</td>\n",
       "      <td>203</td>\n",
       "      <td>POLYGON ((-101.06534 39.38512, -101.06534 39.3...</td>\n",
       "    </tr>\n",
       "    <tr>\n",
       "      <th>...</th>\n",
       "      <td>...</td>\n",
       "      <td>...</td>\n",
       "      <td>...</td>\n",
       "      <td>...</td>\n",
       "      <td>...</td>\n",
       "    </tr>\n",
       "    <tr>\n",
       "      <th>133</th>\n",
       "      <td>Span D</td>\n",
       "      <td>3</td>\n",
       "      <td>2</td>\n",
       "      <td>2704</td>\n",
       "      <td>POLYGON ((-101.06494 39.38717, -101.06494 39.3...</td>\n",
       "    </tr>\n",
       "    <tr>\n",
       "      <th>134</th>\n",
       "      <td>Span D</td>\n",
       "      <td>3</td>\n",
       "      <td>34</td>\n",
       "      <td>2705</td>\n",
       "      <td>POLYGON ((-101.06455 39.38716, -101.06455 39.3...</td>\n",
       "    </tr>\n",
       "    <tr>\n",
       "      <th>135</th>\n",
       "      <td>Span D</td>\n",
       "      <td>1</td>\n",
       "      <td>1</td>\n",
       "      <td>2703</td>\n",
       "      <td>POLYGON ((-101.06533 39.38717, -101.06533 39.3...</td>\n",
       "    </tr>\n",
       "    <tr>\n",
       "      <th>136</th>\n",
       "      <td>Span D</td>\n",
       "      <td>1</td>\n",
       "      <td>13</td>\n",
       "      <td>2702</td>\n",
       "      <td>POLYGON ((-101.06572 39.38717, -101.06572 39.3...</td>\n",
       "    </tr>\n",
       "    <tr>\n",
       "      <th>137</th>\n",
       "      <td>Span D</td>\n",
       "      <td>1</td>\n",
       "      <td>24</td>\n",
       "      <td>2701</td>\n",
       "      <td>POLYGON ((-101.06611 39.38717, -101.06611 39.3...</td>\n",
       "    </tr>\n",
       "  </tbody>\n",
       "</table>\n",
       "<p>138 rows × 5 columns</p>\n",
       "</div>"
      ],
      "text/plain": [
       "       Name  Block_ID  TRT_ID  Plot_ID  \\\n",
       "0    Span D         1      15     2502   \n",
       "1    Span A         4      27      204   \n",
       "2    Span A         4      30      206   \n",
       "3    Span A         4       2      205   \n",
       "4    Span A         2      14      203   \n",
       "..      ...       ...     ...      ...   \n",
       "133  Span D         3       2     2704   \n",
       "134  Span D         3      34     2705   \n",
       "135  Span D         1       1     2703   \n",
       "136  Span D         1      13     2702   \n",
       "137  Span D         1      24     2701   \n",
       "\n",
       "                                              geometry  \n",
       "0    POLYGON ((-101.06572 39.387, -101.06572 39.386...  \n",
       "1    POLYGON ((-101.06495 39.38511, -101.06495 39.3...  \n",
       "2    POLYGON ((-101.06417 39.38511, -101.06417 39.3...  \n",
       "3    POLYGON ((-101.06456 39.38511, -101.06456 39.3...  \n",
       "4    POLYGON ((-101.06534 39.38512, -101.06534 39.3...  \n",
       "..                                                 ...  \n",
       "133  POLYGON ((-101.06494 39.38717, -101.06494 39.3...  \n",
       "134  POLYGON ((-101.06455 39.38716, -101.06455 39.3...  \n",
       "135  POLYGON ((-101.06533 39.38717, -101.06533 39.3...  \n",
       "136  POLYGON ((-101.06572 39.38717, -101.06572 39.3...  \n",
       "137  POLYGON ((-101.06611 39.38717, -101.06611 39.3...  \n",
       "\n",
       "[138 rows x 5 columns]"
      ]
     },
     "execution_count": 8,
     "metadata": {},
     "output_type": "execute_result"
    }
   ],
   "source": [
    "plot_boundary"
   ]
  },
  {
   "cell_type": "code",
   "execution_count": 14,
   "id": "35709d3e-6049-4de3-82d4-c05eb94c36e0",
   "metadata": {},
   "outputs": [],
   "source": [
    "fig = go.Figure()\n",
    "\n",
    "selected_plot = plot_boundary.index[0]\n",
    "# Extract selected plot boundary\n",
    "selected_boundary = plot_boundary.loc[[selected_plot], 'geometry']\n",
    "\n",
    "# Clip EC shallow and deep rasters to the selected plot boundary\n",
    "soil_texture_clipped = soil_texture_da.rio.clip(selected_boundary.geometry, drop=True,all_touched = True)"
   ]
  },
  {
   "cell_type": "code",
   "execution_count": null,
   "id": "4a1c1f0a",
   "metadata": {},
   "outputs": [],
   "source": [
    "# Define the reclassification dictionary\n",
    "\n"
   ]
  },
  {
   "cell_type": "code",
   "execution_count": 15,
   "id": "b9371968-b80a-4b66-85ba-15f7ba5e7754",
   "metadata": {},
   "outputs": [
    {
     "data": {
      "application/vnd.plotly.v1+json": {
       "config": {
        "plotlyServerURL": "https://plot.ly"
       },
       "data": [
        {
         "colorbar": {
          "title": {
           "text": "Soil Texture"
          }
         },
         "colorscale": [
          [
           0,
           "rgb(255,255,229)"
          ],
          [
           0.125,
           "rgb(255,247,188)"
          ],
          [
           0.25,
           "rgb(254,227,145)"
          ],
          [
           0.375,
           "rgb(254,196,79)"
          ],
          [
           0.5,
           "rgb(254,153,41)"
          ],
          [
           0.625,
           "rgb(236,112,20)"
          ],
          [
           0.75,
           "rgb(204,76,2)"
          ],
          [
           0.875,
           "rgb(153,52,4)"
          ],
          [
           1,
           "rgb(102,37,6)"
          ]
         ],
         "type": "heatmap",
         "x": [
          -101.06592551678392,
          -101.06591587115578,
          -101.06590622552764,
          -101.0658965798995,
          -101.06588693427136,
          -101.06587728864322,
          -101.06586764301508,
          -101.06585799738694,
          -101.0658483517588,
          -101.06583870613066,
          -101.06582906050251,
          -101.06581941487437,
          -101.06580976924623,
          -101.06580012361809,
          -101.06579047798995,
          -101.06578083236181,
          -101.06577118673367,
          -101.06576154110553,
          -101.06575189547739,
          -101.06574224984925,
          -101.06573260422111,
          -101.06572295859297,
          -101.06571331296483
         ],
         "y": [
          39.38692221276382,
          39.386931553366836,
          39.38694089396985,
          39.386950234572865,
          39.38695957517588,
          39.3869689157789,
          39.386978256381916,
          39.38698759698493,
          39.386996937587945,
          39.38700627819096
         ],
         "z": [
          [
           2,
           2,
           2,
           2,
           2,
           2,
           2,
           2,
           2,
           2,
           2,
           2,
           2,
           2,
           2,
           2,
           2,
           2,
           2,
           2,
           2,
           2,
           2
          ],
          [
           2,
           2,
           2,
           2,
           2,
           2,
           2,
           2,
           2,
           2,
           2,
           2,
           2,
           2,
           2,
           2,
           2,
           2,
           2,
           2,
           2,
           2,
           2
          ],
          [
           2,
           2,
           2,
           2,
           2,
           2,
           2,
           2,
           2,
           2,
           2,
           2,
           2,
           2,
           2,
           2,
           2,
           2,
           2,
           2,
           2,
           2,
           2
          ],
          [
           2,
           2,
           2,
           2,
           2,
           2,
           2,
           2,
           2,
           2,
           2,
           2,
           2,
           2,
           2,
           2,
           2,
           2,
           2,
           2,
           2,
           2,
           2
          ],
          [
           2,
           2,
           2,
           2,
           2,
           2,
           2,
           2,
           2,
           2,
           2,
           2,
           2,
           2,
           2,
           2,
           2,
           2,
           2,
           2,
           2,
           2,
           2
          ],
          [
           2,
           2,
           2,
           2,
           2,
           2,
           2,
           2,
           2,
           2,
           2,
           2,
           2,
           2,
           2,
           2,
           2,
           2,
           2,
           2,
           2,
           2,
           2
          ],
          [
           2,
           2,
           2,
           2,
           2,
           2,
           2,
           2,
           2,
           2,
           2,
           2,
           2,
           2,
           2,
           2,
           2,
           2,
           2,
           2,
           2,
           2,
           2
          ],
          [
           2,
           2,
           2,
           2,
           2,
           2,
           2,
           2,
           2,
           2,
           2,
           2,
           2,
           2,
           2,
           2,
           2,
           2,
           2,
           2,
           2,
           2,
           2
          ],
          [
           2,
           2,
           2,
           2,
           2,
           2,
           2,
           2,
           2,
           2,
           2,
           2,
           2,
           2,
           2,
           2,
           2,
           2,
           2,
           2,
           2,
           2,
           2
          ],
          [
           2,
           2,
           2,
           2,
           2,
           2,
           2,
           2,
           2,
           2,
           2,
           2,
           2,
           2,
           2,
           2,
           2,
           2,
           2,
           2,
           2,
           2,
           2
          ]
         ],
         "zsmooth": "best"
        },
        {
         "line": {
          "color": "black",
          "width": 2
         },
         "mode": "lines",
         "name": "Plot Boundary",
         "type": "scatter",
         "x": [
          -101.06571698339155,
          -101.06571751108737,
          -101.06578489737637,
          -101.0658627293808,
          -101.06592978027459,
          -101.06592925284912,
          -101.06586214621205,
          -101.06578431420775,
          -101.06571698339155
         ],
         "y": [
          39.38700480845006,
          39.38692244767901,
          39.38692283761492,
          39.38692328799601,
          39.38692367599123,
          39.387006036750165,
          39.38700564843663,
          39.387005198060706,
          39.38700480845006
         ]
        }
       ],
       "layout": {
        "template": {
         "data": {
          "bar": [
           {
            "error_x": {
             "color": "#2a3f5f"
            },
            "error_y": {
             "color": "#2a3f5f"
            },
            "marker": {
             "line": {
              "color": "white",
              "width": 0.5
             },
             "pattern": {
              "fillmode": "overlay",
              "size": 10,
              "solidity": 0.2
             }
            },
            "type": "bar"
           }
          ],
          "barpolar": [
           {
            "marker": {
             "line": {
              "color": "white",
              "width": 0.5
             },
             "pattern": {
              "fillmode": "overlay",
              "size": 10,
              "solidity": 0.2
             }
            },
            "type": "barpolar"
           }
          ],
          "carpet": [
           {
            "aaxis": {
             "endlinecolor": "#2a3f5f",
             "gridcolor": "#C8D4E3",
             "linecolor": "#C8D4E3",
             "minorgridcolor": "#C8D4E3",
             "startlinecolor": "#2a3f5f"
            },
            "baxis": {
             "endlinecolor": "#2a3f5f",
             "gridcolor": "#C8D4E3",
             "linecolor": "#C8D4E3",
             "minorgridcolor": "#C8D4E3",
             "startlinecolor": "#2a3f5f"
            },
            "type": "carpet"
           }
          ],
          "choropleth": [
           {
            "colorbar": {
             "outlinewidth": 0,
             "ticks": ""
            },
            "type": "choropleth"
           }
          ],
          "contour": [
           {
            "colorbar": {
             "outlinewidth": 0,
             "ticks": ""
            },
            "colorscale": [
             [
              0,
              "#0d0887"
             ],
             [
              0.1111111111111111,
              "#46039f"
             ],
             [
              0.2222222222222222,
              "#7201a8"
             ],
             [
              0.3333333333333333,
              "#9c179e"
             ],
             [
              0.4444444444444444,
              "#bd3786"
             ],
             [
              0.5555555555555556,
              "#d8576b"
             ],
             [
              0.6666666666666666,
              "#ed7953"
             ],
             [
              0.7777777777777778,
              "#fb9f3a"
             ],
             [
              0.8888888888888888,
              "#fdca26"
             ],
             [
              1,
              "#f0f921"
             ]
            ],
            "type": "contour"
           }
          ],
          "contourcarpet": [
           {
            "colorbar": {
             "outlinewidth": 0,
             "ticks": ""
            },
            "type": "contourcarpet"
           }
          ],
          "heatmap": [
           {
            "colorbar": {
             "outlinewidth": 0,
             "ticks": ""
            },
            "colorscale": [
             [
              0,
              "#0d0887"
             ],
             [
              0.1111111111111111,
              "#46039f"
             ],
             [
              0.2222222222222222,
              "#7201a8"
             ],
             [
              0.3333333333333333,
              "#9c179e"
             ],
             [
              0.4444444444444444,
              "#bd3786"
             ],
             [
              0.5555555555555556,
              "#d8576b"
             ],
             [
              0.6666666666666666,
              "#ed7953"
             ],
             [
              0.7777777777777778,
              "#fb9f3a"
             ],
             [
              0.8888888888888888,
              "#fdca26"
             ],
             [
              1,
              "#f0f921"
             ]
            ],
            "type": "heatmap"
           }
          ],
          "heatmapgl": [
           {
            "colorbar": {
             "outlinewidth": 0,
             "ticks": ""
            },
            "colorscale": [
             [
              0,
              "#0d0887"
             ],
             [
              0.1111111111111111,
              "#46039f"
             ],
             [
              0.2222222222222222,
              "#7201a8"
             ],
             [
              0.3333333333333333,
              "#9c179e"
             ],
             [
              0.4444444444444444,
              "#bd3786"
             ],
             [
              0.5555555555555556,
              "#d8576b"
             ],
             [
              0.6666666666666666,
              "#ed7953"
             ],
             [
              0.7777777777777778,
              "#fb9f3a"
             ],
             [
              0.8888888888888888,
              "#fdca26"
             ],
             [
              1,
              "#f0f921"
             ]
            ],
            "type": "heatmapgl"
           }
          ],
          "histogram": [
           {
            "marker": {
             "pattern": {
              "fillmode": "overlay",
              "size": 10,
              "solidity": 0.2
             }
            },
            "type": "histogram"
           }
          ],
          "histogram2d": [
           {
            "colorbar": {
             "outlinewidth": 0,
             "ticks": ""
            },
            "colorscale": [
             [
              0,
              "#0d0887"
             ],
             [
              0.1111111111111111,
              "#46039f"
             ],
             [
              0.2222222222222222,
              "#7201a8"
             ],
             [
              0.3333333333333333,
              "#9c179e"
             ],
             [
              0.4444444444444444,
              "#bd3786"
             ],
             [
              0.5555555555555556,
              "#d8576b"
             ],
             [
              0.6666666666666666,
              "#ed7953"
             ],
             [
              0.7777777777777778,
              "#fb9f3a"
             ],
             [
              0.8888888888888888,
              "#fdca26"
             ],
             [
              1,
              "#f0f921"
             ]
            ],
            "type": "histogram2d"
           }
          ],
          "histogram2dcontour": [
           {
            "colorbar": {
             "outlinewidth": 0,
             "ticks": ""
            },
            "colorscale": [
             [
              0,
              "#0d0887"
             ],
             [
              0.1111111111111111,
              "#46039f"
             ],
             [
              0.2222222222222222,
              "#7201a8"
             ],
             [
              0.3333333333333333,
              "#9c179e"
             ],
             [
              0.4444444444444444,
              "#bd3786"
             ],
             [
              0.5555555555555556,
              "#d8576b"
             ],
             [
              0.6666666666666666,
              "#ed7953"
             ],
             [
              0.7777777777777778,
              "#fb9f3a"
             ],
             [
              0.8888888888888888,
              "#fdca26"
             ],
             [
              1,
              "#f0f921"
             ]
            ],
            "type": "histogram2dcontour"
           }
          ],
          "mesh3d": [
           {
            "colorbar": {
             "outlinewidth": 0,
             "ticks": ""
            },
            "type": "mesh3d"
           }
          ],
          "parcoords": [
           {
            "line": {
             "colorbar": {
              "outlinewidth": 0,
              "ticks": ""
             }
            },
            "type": "parcoords"
           }
          ],
          "pie": [
           {
            "automargin": true,
            "type": "pie"
           }
          ],
          "scatter": [
           {
            "fillpattern": {
             "fillmode": "overlay",
             "size": 10,
             "solidity": 0.2
            },
            "type": "scatter"
           }
          ],
          "scatter3d": [
           {
            "line": {
             "colorbar": {
              "outlinewidth": 0,
              "ticks": ""
             }
            },
            "marker": {
             "colorbar": {
              "outlinewidth": 0,
              "ticks": ""
             }
            },
            "type": "scatter3d"
           }
          ],
          "scattercarpet": [
           {
            "marker": {
             "colorbar": {
              "outlinewidth": 0,
              "ticks": ""
             }
            },
            "type": "scattercarpet"
           }
          ],
          "scattergeo": [
           {
            "marker": {
             "colorbar": {
              "outlinewidth": 0,
              "ticks": ""
             }
            },
            "type": "scattergeo"
           }
          ],
          "scattergl": [
           {
            "marker": {
             "colorbar": {
              "outlinewidth": 0,
              "ticks": ""
             }
            },
            "type": "scattergl"
           }
          ],
          "scattermapbox": [
           {
            "marker": {
             "colorbar": {
              "outlinewidth": 0,
              "ticks": ""
             }
            },
            "type": "scattermapbox"
           }
          ],
          "scatterpolar": [
           {
            "marker": {
             "colorbar": {
              "outlinewidth": 0,
              "ticks": ""
             }
            },
            "type": "scatterpolar"
           }
          ],
          "scatterpolargl": [
           {
            "marker": {
             "colorbar": {
              "outlinewidth": 0,
              "ticks": ""
             }
            },
            "type": "scatterpolargl"
           }
          ],
          "scatterternary": [
           {
            "marker": {
             "colorbar": {
              "outlinewidth": 0,
              "ticks": ""
             }
            },
            "type": "scatterternary"
           }
          ],
          "surface": [
           {
            "colorbar": {
             "outlinewidth": 0,
             "ticks": ""
            },
            "colorscale": [
             [
              0,
              "#0d0887"
             ],
             [
              0.1111111111111111,
              "#46039f"
             ],
             [
              0.2222222222222222,
              "#7201a8"
             ],
             [
              0.3333333333333333,
              "#9c179e"
             ],
             [
              0.4444444444444444,
              "#bd3786"
             ],
             [
              0.5555555555555556,
              "#d8576b"
             ],
             [
              0.6666666666666666,
              "#ed7953"
             ],
             [
              0.7777777777777778,
              "#fb9f3a"
             ],
             [
              0.8888888888888888,
              "#fdca26"
             ],
             [
              1,
              "#f0f921"
             ]
            ],
            "type": "surface"
           }
          ],
          "table": [
           {
            "cells": {
             "fill": {
              "color": "#EBF0F8"
             },
             "line": {
              "color": "white"
             }
            },
            "header": {
             "fill": {
              "color": "#C8D4E3"
             },
             "line": {
              "color": "white"
             }
            },
            "type": "table"
           }
          ]
         },
         "layout": {
          "annotationdefaults": {
           "arrowcolor": "#2a3f5f",
           "arrowhead": 0,
           "arrowwidth": 1
          },
          "autotypenumbers": "strict",
          "coloraxis": {
           "colorbar": {
            "outlinewidth": 0,
            "ticks": ""
           }
          },
          "colorscale": {
           "diverging": [
            [
             0,
             "#8e0152"
            ],
            [
             0.1,
             "#c51b7d"
            ],
            [
             0.2,
             "#de77ae"
            ],
            [
             0.3,
             "#f1b6da"
            ],
            [
             0.4,
             "#fde0ef"
            ],
            [
             0.5,
             "#f7f7f7"
            ],
            [
             0.6,
             "#e6f5d0"
            ],
            [
             0.7,
             "#b8e186"
            ],
            [
             0.8,
             "#7fbc41"
            ],
            [
             0.9,
             "#4d9221"
            ],
            [
             1,
             "#276419"
            ]
           ],
           "sequential": [
            [
             0,
             "#0d0887"
            ],
            [
             0.1111111111111111,
             "#46039f"
            ],
            [
             0.2222222222222222,
             "#7201a8"
            ],
            [
             0.3333333333333333,
             "#9c179e"
            ],
            [
             0.4444444444444444,
             "#bd3786"
            ],
            [
             0.5555555555555556,
             "#d8576b"
            ],
            [
             0.6666666666666666,
             "#ed7953"
            ],
            [
             0.7777777777777778,
             "#fb9f3a"
            ],
            [
             0.8888888888888888,
             "#fdca26"
            ],
            [
             1,
             "#f0f921"
            ]
           ],
           "sequentialminus": [
            [
             0,
             "#0d0887"
            ],
            [
             0.1111111111111111,
             "#46039f"
            ],
            [
             0.2222222222222222,
             "#7201a8"
            ],
            [
             0.3333333333333333,
             "#9c179e"
            ],
            [
             0.4444444444444444,
             "#bd3786"
            ],
            [
             0.5555555555555556,
             "#d8576b"
            ],
            [
             0.6666666666666666,
             "#ed7953"
            ],
            [
             0.7777777777777778,
             "#fb9f3a"
            ],
            [
             0.8888888888888888,
             "#fdca26"
            ],
            [
             1,
             "#f0f921"
            ]
           ]
          },
          "colorway": [
           "#636efa",
           "#EF553B",
           "#00cc96",
           "#ab63fa",
           "#FFA15A",
           "#19d3f3",
           "#FF6692",
           "#B6E880",
           "#FF97FF",
           "#FECB52"
          ],
          "font": {
           "color": "#2a3f5f"
          },
          "geo": {
           "bgcolor": "white",
           "lakecolor": "white",
           "landcolor": "white",
           "showlakes": true,
           "showland": true,
           "subunitcolor": "#C8D4E3"
          },
          "hoverlabel": {
           "align": "left"
          },
          "hovermode": "closest",
          "mapbox": {
           "style": "light"
          },
          "paper_bgcolor": "white",
          "plot_bgcolor": "white",
          "polar": {
           "angularaxis": {
            "gridcolor": "#EBF0F8",
            "linecolor": "#EBF0F8",
            "ticks": ""
           },
           "bgcolor": "white",
           "radialaxis": {
            "gridcolor": "#EBF0F8",
            "linecolor": "#EBF0F8",
            "ticks": ""
           }
          },
          "scene": {
           "xaxis": {
            "backgroundcolor": "white",
            "gridcolor": "#DFE8F3",
            "gridwidth": 2,
            "linecolor": "#EBF0F8",
            "showbackground": true,
            "ticks": "",
            "zerolinecolor": "#EBF0F8"
           },
           "yaxis": {
            "backgroundcolor": "white",
            "gridcolor": "#DFE8F3",
            "gridwidth": 2,
            "linecolor": "#EBF0F8",
            "showbackground": true,
            "ticks": "",
            "zerolinecolor": "#EBF0F8"
           },
           "zaxis": {
            "backgroundcolor": "white",
            "gridcolor": "#DFE8F3",
            "gridwidth": 2,
            "linecolor": "#EBF0F8",
            "showbackground": true,
            "ticks": "",
            "zerolinecolor": "#EBF0F8"
           }
          },
          "shapedefaults": {
           "line": {
            "color": "#2a3f5f"
           }
          },
          "ternary": {
           "aaxis": {
            "gridcolor": "#DFE8F3",
            "linecolor": "#A2B1C6",
            "ticks": ""
           },
           "baxis": {
            "gridcolor": "#DFE8F3",
            "linecolor": "#A2B1C6",
            "ticks": ""
           },
           "bgcolor": "white",
           "caxis": {
            "gridcolor": "#DFE8F3",
            "linecolor": "#A2B1C6",
            "ticks": ""
           }
          },
          "title": {
           "x": 0.05
          },
          "xaxis": {
           "automargin": true,
           "gridcolor": "#EBF0F8",
           "linecolor": "#EBF0F8",
           "ticks": "",
           "title": {
            "standoff": 15
           },
           "zerolinecolor": "#EBF0F8",
           "zerolinewidth": 2
          },
          "yaxis": {
           "automargin": true,
           "gridcolor": "#EBF0F8",
           "linecolor": "#EBF0F8",
           "ticks": "",
           "title": {
            "standoff": 15
           },
           "zerolinecolor": "#EBF0F8",
           "zerolinewidth": 2
          }
         }
        },
        "title": {
         "text": "Clipped Soil Texture for Plot 0"
        },
        "xaxis": {
         "title": {
          "text": "Longitude"
         }
        },
        "yaxis": {
         "title": {
          "text": "Latitude"
         }
        }
       }
      }
     },
     "metadata": {},
     "output_type": "display_data"
    }
   ],
   "source": [
    "# Plot EC Shallow\n",
    "fig.add_trace(go.Heatmap(\n",
    "    z=soil_texture_clipped.values,\n",
    "    x=soil_texture_clipped.coords['x'].values,\n",
    "    y=soil_texture_clipped.coords['y'].values,\n",
    "    colorscale=\"ylorbr\",\n",
    "    colorbar=dict(title=\"Soil Texture\"),\n",
    "    zsmooth=\"best\"))\n",
    "\n",
    "# Add plot boundary outline\n",
    "boundary_x, boundary_y = list(selected_boundary.geometry.iloc[0].exterior.xy[0]), list(selected_boundary.geometry.iloc[0].exterior.xy[1])\n",
    "fig.add_trace(go.Scatter(\n",
    "    x=boundary_x,\n",
    "    y=boundary_y,\n",
    "    mode=\"lines\",\n",
    "    line=dict(color=\"black\", width=2),\n",
    "    name=\"Plot Boundary\"))\n",
    "\n",
    "# Update layout\n",
    "fig.update_layout(\n",
    "    title=f\"Clipped Soil Texture for Plot {selected_plot}\",\n",
    "    xaxis_title=\"Longitude\",\n",
    "    yaxis_title=\"Latitude\",\n",
    "    template=\"plotly_white\")"
   ]
  },
  {
   "cell_type": "code",
   "execution_count": null,
   "id": "338ecff9-442a-4456-a7fd-6eba38454354",
   "metadata": {},
   "outputs": [],
   "source": []
  },
  {
   "cell_type": "code",
   "execution_count": null,
   "id": "a8a8f797-0a1c-4e1c-997b-2eb31322f571",
   "metadata": {},
   "outputs": [],
   "source": []
  }
 ],
 "metadata": {
  "kernelspec": {
   "display_name": "vEnv",
   "language": "python",
   "name": "python3"
  },
  "language_info": {
   "codemirror_mode": {
    "name": "ipython",
    "version": 3
   },
   "file_extension": ".py",
   "mimetype": "text/x-python",
   "name": "python",
   "nbconvert_exporter": "python",
   "pygments_lexer": "ipython3",
   "version": "3.9.6"
  }
 },
 "nbformat": 4,
 "nbformat_minor": 5
}
