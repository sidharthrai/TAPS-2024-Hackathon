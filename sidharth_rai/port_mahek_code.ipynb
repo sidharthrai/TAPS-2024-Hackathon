{
 "cells": [
  {
   "cell_type": "code",
   "execution_count": 2,
   "metadata": {},
   "outputs": [],
   "source": [
    "\n",
    "import numpy as np\n",
    "import pandas as pd\n",
    "import geopandas as gpd\n",
    "import rasterio\n",
    "import xarray as xr\n",
    "import matplotlib.pyplot as plt\n",
    "from shapely.geometry import Point\n",
    "from scipy.interpolate import griddata\n",
    "from rasterio.transform import from_origin"
   ]
  },
  {
   "cell_type": "code",
   "execution_count": 3,
   "metadata": {},
   "outputs": [],
   "source": [
    "ec_data = pd.read_excel(\"../Data/ec_data/2024_TAPS_Veris_raw_spatial_data.xlsx\")\n",
    "geometry = [Point(xy) for xy in zip(ec_data['Long'], ec_data['Lat'])]\n",
    "\n",
    "# Create a GeoDataFrame\n",
    "ec_vector_data = gpd.GeoDataFrame(ec_data, geometry=geometry)\n",
    "ec_vector_data.set_crs(\"EPSG:4326\", inplace=True) \n",
    "ec_vector_data.to_file('EC_vector_file.geojson', driver=\"GeoJSON\")\n",
    "\n",
    "#Interpolating the data\n",
    "points = np.array(list(zip(ec_vector_data.geometry.x, ec_vector_data.geometry.y)))\n",
    "ec_shallow = ec_vector_data['EC SH'].values\n",
    "ec_deep = ec_vector_data['EC DP'].values\n",
    "\n",
    "#Define grid parameters\n",
    "x_min, x_max = points[:, 0].min(), points[:, 0].max()\n",
    "y_min, y_max = points[:, 1].min(), points[:, 1].max()\n",
    "grid_x, grid_y = np.mgrid[x_min:x_max:200j, y_min:y_max:200j]\n",
    "\n",
    "#Interpolate data to the grid\n",
    "grid_z_shallow = griddata(points, ec_shallow, (grid_x, grid_y), method='cubic') #cubic interpolation\n",
    "grid_z_deep = griddata(points, ec_deep, (grid_x, grid_y), method='cubic') #cubic interpolation\n"
   ]
  },
  {
   "cell_type": "code",
   "execution_count": 4,
   "metadata": {},
   "outputs": [],
   "source": [
    "ec_raster_shallow = xr.open_dataarray(\"interpolated_raster_EC_shallow.tif\") \n",
    "with rasterio.open('Interpolated_raster_EC_deep.tif', 'w', driver= 'GTiff', \n",
    "                   height= grid_z_deep.shape[0], width= grid_z_deep.shape[1],\n",
    "                   count= 1, crs = \"EPSG:4326\", dtype= grid_z_deep.dtype,\n",
    "                   transform = from_origin(x_min, y_max, (x_max - x_min) /100 , (y_max - y_min) /100)) as dst:\n",
    "    dst.write(grid_z_deep,1)\n",
    "\n",
    "ec_raster_deep = xr.open_dataarray(\"interpolated_raster_EC_deep.tif\") \n",
    "\n",
    "\n",
    "#Clipping the EC values by plt boundary\n",
    "plot_boundary = gpd.read_file(\"../Data/plot_boundaries/Map with all plots/2024_Colby_TAPS_Harvest_Area.shx\")\n",
    "\n",
    "\n",
    "#Define function for cliping raster file to tuttle creek\n",
    "clip_fn = lambda polygon, R: R.rio.clip( [polygon.geometry], \n",
    "                                        crs = R.rio.crs,\n",
    "                                        all_touched = True)\n",
    "\n",
    "plot_boundary['EC_shallow'] = plot_boundary.apply(lambda row: clip_fn(row,ec_raster_shallow), axis =1)\n",
    "\n",
    "plot_boundary['EC_deep'] = plot_boundary.apply(lambda row: clip_fn(row,ec_raster_deep), axis =1)\n"
   ]
  },
  {
   "cell_type": "code",
   "execution_count": 5,
   "metadata": {},
   "outputs": [
    {
     "data": {
      "text/html": [
       "<div>\n",
       "<style scoped>\n",
       "    .dataframe tbody tr th:only-of-type {\n",
       "        vertical-align: middle;\n",
       "    }\n",
       "\n",
       "    .dataframe tbody tr th {\n",
       "        vertical-align: top;\n",
       "    }\n",
       "\n",
       "    .dataframe thead th {\n",
       "        text-align: right;\n",
       "    }\n",
       "</style>\n",
       "<table border=\"1\" class=\"dataframe\">\n",
       "  <thead>\n",
       "    <tr style=\"text-align: right;\">\n",
       "      <th></th>\n",
       "      <th>Name</th>\n",
       "      <th>Block_ID</th>\n",
       "      <th>TRT_ID</th>\n",
       "      <th>Plot_ID</th>\n",
       "      <th>geometry</th>\n",
       "      <th>EC_shallow</th>\n",
       "      <th>EC_deep</th>\n",
       "    </tr>\n",
       "  </thead>\n",
       "  <tbody>\n",
       "    <tr>\n",
       "      <th>0</th>\n",
       "      <td>Span D</td>\n",
       "      <td>1</td>\n",
       "      <td>15</td>\n",
       "      <td>2502</td>\n",
       "      <td>POLYGON ((-101.06572 39.387, -101.06572 39.386...</td>\n",
       "      <td>[[[&lt;xarray.DataArray 'band_data' ()&gt; Size: 8B\\...</td>\n",
       "      <td>[[[&lt;xarray.DataArray 'band_data' ()&gt; Size: 8B\\...</td>\n",
       "    </tr>\n",
       "    <tr>\n",
       "      <th>1</th>\n",
       "      <td>Span A</td>\n",
       "      <td>4</td>\n",
       "      <td>27</td>\n",
       "      <td>204</td>\n",
       "      <td>POLYGON ((-101.06495 39.38511, -101.06495 39.3...</td>\n",
       "      <td>[[[&lt;xarray.DataArray 'band_data' ()&gt; Size: 8B\\...</td>\n",
       "      <td>[[[&lt;xarray.DataArray 'band_data' ()&gt; Size: 8B\\...</td>\n",
       "    </tr>\n",
       "    <tr>\n",
       "      <th>2</th>\n",
       "      <td>Span A</td>\n",
       "      <td>4</td>\n",
       "      <td>30</td>\n",
       "      <td>206</td>\n",
       "      <td>POLYGON ((-101.06417 39.38511, -101.06417 39.3...</td>\n",
       "      <td>[[[&lt;xarray.DataArray 'band_data' ()&gt; Size: 8B\\...</td>\n",
       "      <td>[[[&lt;xarray.DataArray 'band_data' ()&gt; Size: 8B\\...</td>\n",
       "    </tr>\n",
       "    <tr>\n",
       "      <th>3</th>\n",
       "      <td>Span A</td>\n",
       "      <td>4</td>\n",
       "      <td>2</td>\n",
       "      <td>205</td>\n",
       "      <td>POLYGON ((-101.06456 39.38511, -101.06456 39.3...</td>\n",
       "      <td>[[[&lt;xarray.DataArray 'band_data' ()&gt; Size: 8B\\...</td>\n",
       "      <td>[[[&lt;xarray.DataArray 'band_data' ()&gt; Size: 8B\\...</td>\n",
       "    </tr>\n",
       "    <tr>\n",
       "      <th>4</th>\n",
       "      <td>Span A</td>\n",
       "      <td>2</td>\n",
       "      <td>14</td>\n",
       "      <td>203</td>\n",
       "      <td>POLYGON ((-101.06534 39.38512, -101.06534 39.3...</td>\n",
       "      <td>[[[&lt;xarray.DataArray 'band_data' ()&gt; Size: 8B\\...</td>\n",
       "      <td>[[[&lt;xarray.DataArray 'band_data' ()&gt; Size: 8B\\...</td>\n",
       "    </tr>\n",
       "  </tbody>\n",
       "</table>\n",
       "</div>"
      ],
      "text/plain": [
       "     Name  Block_ID  TRT_ID  Plot_ID  \\\n",
       "0  Span D         1      15     2502   \n",
       "1  Span A         4      27      204   \n",
       "2  Span A         4      30      206   \n",
       "3  Span A         4       2      205   \n",
       "4  Span A         2      14      203   \n",
       "\n",
       "                                            geometry  \\\n",
       "0  POLYGON ((-101.06572 39.387, -101.06572 39.386...   \n",
       "1  POLYGON ((-101.06495 39.38511, -101.06495 39.3...   \n",
       "2  POLYGON ((-101.06417 39.38511, -101.06417 39.3...   \n",
       "3  POLYGON ((-101.06456 39.38511, -101.06456 39.3...   \n",
       "4  POLYGON ((-101.06534 39.38512, -101.06534 39.3...   \n",
       "\n",
       "                                          EC_shallow  \\\n",
       "0  [[[<xarray.DataArray 'band_data' ()> Size: 8B\\...   \n",
       "1  [[[<xarray.DataArray 'band_data' ()> Size: 8B\\...   \n",
       "2  [[[<xarray.DataArray 'band_data' ()> Size: 8B\\...   \n",
       "3  [[[<xarray.DataArray 'band_data' ()> Size: 8B\\...   \n",
       "4  [[[<xarray.DataArray 'band_data' ()> Size: 8B\\...   \n",
       "\n",
       "                                             EC_deep  \n",
       "0  [[[<xarray.DataArray 'band_data' ()> Size: 8B\\...  \n",
       "1  [[[<xarray.DataArray 'band_data' ()> Size: 8B\\...  \n",
       "2  [[[<xarray.DataArray 'band_data' ()> Size: 8B\\...  \n",
       "3  [[[<xarray.DataArray 'band_data' ()> Size: 8B\\...  \n",
       "4  [[[<xarray.DataArray 'band_data' ()> Size: 8B\\...  "
      ]
     },
     "execution_count": 5,
     "metadata": {},
     "output_type": "execute_result"
    }
   ],
   "source": [
    "plot_boundary.head()"
   ]
  },
  {
   "cell_type": "code",
   "execution_count": null,
   "metadata": {},
   "outputs": [
    {
     "data": {
      "image/png": "[encoded data removed]",
      "text/plain": [
       "<Figure size 1000x800 with 2 Axes>"
      ]
     },
     "metadata": {},
     "output_type": "display_data"
    }
   ],
   "source": [
    "#Plotting the EC values \n",
    "fig,ax = plt.subplots(figsize = (10,8))\n",
    "plot_boundary.loc[ [0], 'geometry'].boundary.plot(ax=ax, edgecolor = 'k', linewidth=8)\n",
    "plot_boundary.loc[0, 'EC_shallow'].plot(ax=ax, cmap='inferno_r')\n",
    "ax.set_title('EC Shallow')\n",
    "ax.set_xlabel('Longitude')\n",
    "ax.set_ylabel('Latitude') \n",
    "plt.show()\n"
   ]
  },
  {
   "cell_type": "markdown",
   "metadata": {},
   "source": [
    "import plotly.graph_objects as go\n",
    "import numpy as np\n",
    "import xarray as xr\n",
    "\n",
    "# Set up Plotly figure\n",
    "fig = go.Figure()\n",
    "\n",
    "# Convert boundary data to list to make it compatible with Plotly\n",
    "boundary_x, boundary_y = map(list, plot_boundary.loc[0, 'geometry'].boundary.xy)\n",
    "fig.add_trace(go.Scatter(x=boundary_x, y=boundary_y, mode='lines', line=dict(color='black', width=3), name='Boundary'))\n",
    "\n",
    "# Generate EC_shallow data by applying the clip function and extracting the NumPy array\n",
    "ec_shallow_data = plot_boundary.apply(\n",
    "    lambda row: clip_fn(row, ec_raster_shallow).values if isinstance(clip_fn(row, ec_raster_shallow), xr.DataArray) \n",
    "    else clip_fn(row, ec_raster_shallow), \n",
    "    axis=1\n",
    ")\n",
    "\n",
    "# Flatten each array in ec_shallow_data if necessary\n",
    "ec_shallow_data_flattened = [np.array(data).flatten() if isinstance(data, (np.ndarray, list)) else np.array([data]) for data in ec_shallow_data]\n",
    "\n",
    "# Pad or reshape to ensure each entry has the same length\n",
    "max_length = max(len(data) for data in ec_shallow_data_flattened)\n",
    "ec_shallow_data_padded = np.array([np.pad(data, (0, max_length - len(data)), mode='constant', constant_values=np.nan) for data in ec_shallow_data_flattened])\n",
    "\n",
    "# Plot the EC_shallow data as a heatmap\n",
    "fig.add_trace(go.Heatmap(\n",
    "    z=ec_shallow_data_padded,\n",
    "    colorscale='Inferno',\n",
    "    name='EC Shallow',\n",
    "    colorbar=dict(title='EC Value')\n",
    "))\n",
    "\n",
    "# Update layout with title and axis labels\n",
    "fig.update_layout(\n",
    "    title='EC Shallow',\n",
    "    xaxis_title='Longitude',\n",
    "    yaxis_title='Latitude',\n",
    "    xaxis=dict(scaleanchor=\"y\", scaleratio=1),\n",
    ")\n",
    "\n",
    "# Show plot\n",
    "fig.show()\n"
   ]
  },
  {
   "cell_type": "code",
   "execution_count": 6,
   "metadata": {},
   "outputs": [
    {
     "data": {
      "application/vnd.plotly.v1+json": {
       "config": {
        "plotlyServerURL": "https://plot.ly"
       },
       "data": [
        {
         "line": {
          "color": "black",
          "width": 3
         },
         "mode": "lines",
         "name": "Boundary",
         "type": "scatter",
         "x": [
          -101.06571698339155,
          -101.06571751108737,
          -101.06578489737637,
          -101.0658627293808,
          -101.06592978027459,
          -101.06592925284912,
          -101.06586214621205,
          -101.06578431420775,
          -101.06571698339155
         ],
         "y": [
          39.38700480845006,
          39.38692244767901,
          39.38692283761492,
          39.38692328799601,
          39.38692367599123,
          39.387006036750165,
          39.38700564843663,
          39.387005198060706,
          39.38700480845006
         ]
        },
        {
         "colorbar": {
          "title": {
           "text": "EC Value"
          }
         },
         "colorscale": [
          [
           0,
           "#000004"
          ],
          [
           0.1111111111111111,
           "#1b0c41"
          ],
          [
           0.2222222222222222,
           "#4a0c6b"
          ],
          [
           0.3333333333333333,
           "#781c6d"
          ],
          [
           0.4444444444444444,
           "#a52c60"
          ],
          [
           0.5555555555555556,
           "#cf4446"
          ],
          [
           0.6666666666666666,
           "#ed6925"
          ],
          [
           0.7777777777777778,
           "#fb9b06"
          ],
          [
           0.8888888888888888,
           "#f7d13d"
          ],
          [
           1,
           "#fcffa4"
          ]
         ],
         "name": "EC Shallow",
         "type": "heatmap",
         "x": [
          -101.06571698339155,
          -101.06571751108737,
          -101.06578489737637,
          -101.0658627293808,
          -101.06592978027459,
          -101.06592925284912,
          -101.06586214621205,
          -101.06578431420775,
          -101.06571698339155
         ],
         "y": [
          39.38700480845006,
          39.38692244767901,
          39.38692283761492,
          39.38692328799601,
          39.38692367599123,
          39.387006036750165,
          39.38700564843663,
          39.387005198060706,
          39.38700480845006
         ],
         "z": [
          [
           36.597441595568526,
           36.376367311063255,
           36.291376511279125,
           35.91030604408361,
           35.80228961891648,
           35.82665834977398,
           35.45506476598539,
           35.26577725866795,
           35.23634072881407,
           36.797431312373014,
           36.42913659598325,
           36.24254376020888,
           39.48504927371417,
           39.62594874436879,
           39.921416449641185
          ],
          [
           45.523441442760664,
           45.843034754619815,
           45.6960305288068,
           46.46532537776149,
           46.292471645570444,
           46.12212171380977,
           46.40002367031537,
           45.74546963058161,
           45.30169568631599,
           44.48724926069052,
           44.08053345190469,
           43.350454449994,
           43.19050614194002,
           42.994354120927525,
           42.49459307225733
          ],
          [
           44.30941450827356,
           43.615450934343606,
           43.24883941340543,
           44.002483545476444,
           44.03136819061599,
           43.87746064485212,
           41.768387102304004,
           41.745439006960375,
           41.45713864732986,
           40.26541581731238,
           39.449769002016374,
           39.00423546885232,
           41.04794381260177,
           40.536788857319436,
           39.69102633366223
          ],
          [
           45.71027910962932,
           45.596308634402305,
           45.11905082285955,
           45.76091796620485,
           45.284906334978544,
           44.86641708515073,
           44.62899421666597,
           43.664365191483434,
           42.99356141502105,
           42.6405841185525,
           42.102939280034235,
           41.48869554058653,
           42.117227069895556,
           42.263931476545444,
           42.062309077252905
          ],
          [
           42.831508209474485,
           43.665590375179754,
           44.44304490251731,
           45.49231744642279,
           45.78469769075721,
           46.03082160894384,
           45.773005692756136,
           46.165032963489594,
           46.43844097850271,
           44.872019437789646,
           45.02236223939443,
           45.059144360879046,
           42.98796503925148,
           43.165327737784985,
           43.30028891888745
          ],
          [
           40.856177193999144,
           41.36357545140606,
           42.028569784195945,
           43.96500274047024,
           44.51565491423418,
           45.05419282125061,
           44.45694479069327,
           44.84454504039569,
           45.30300305391966,
           44.30086517172941,
           44.6297552540064,
           44.734922456970466,
           42.42230797154297,
           42.61323982374974,
           42.802863957170175
          ],
          [
           40.59598710900545,
           40.37627996950359,
           40.35285734353499,
           42.17542980591875,
           42.52625030550012,
           42.95299175092688,
           43.58389502897105,
           43.782138985131496,
           43.919456926977126,
           42.73528418302528,
           43.10239383051203,
           43.466785266065884,
           null,
           null,
           null
          ],
          [
           43.648062750441035,
           43.655972834037776,
           43.67903739937821,
           41.96956495982193,
           42.00913816618481,
           42.06551658562565,
           43.073006716270235,
           42.902323495345605,
           42.76952643792091,
           43.08861427803279,
           43.03100861218494,
           43.053691725635225,
           40.59598710900545,
           40.37627996950359,
           40.35285734353499
          ],
          [
           43.76456098462877,
           43.823985509159094,
           43.88686966141476,
           42.19458246275064,
           42.250216619812576,
           42.288573975989344,
           42.609320913765465,
           42.57777749742434,
           42.57579282912561,
           43.28153577992346,
           43.46007129390018,
           43.66783882725952,
           40.856177193999144,
           41.36357545140606,
           42.028569784195945
          ],
          [
           43.92744614888476,
           43.923166994032215,
           43.85189030804709,
           42.30134674091592,
           42.28008940355332,
           42.21631191476476,
           42.59737501884805,
           42.63109385299238,
           42.66521854738074,
           43.89324063506056,
           44.12467784068072,
           44.35055156707622,
           42.831508209474485,
           43.665590375179754,
           44.44304490251731
          ],
          [
           41.921057572760226,
           41.690745554900204,
           41.37219814766088,
           42.68776238021615,
           42.67681051831256,
           42.97783566004961,
           44.68787299128297,
           44.69998568236265,
           44.58195542228273,
           45.523441442760664,
           45.843034754619815,
           45.6960305288068,
           null,
           null,
           null
          ],
          [
           41.01133073662899,
           40.76967505965434,
           40.66447804901446,
           41.71715287570085,
           41.572343104249356,
           41.09113471923055,
           44.40241022691037,
           44.18160873745522,
           43.81583930312988,
           45.71027910962932,
           45.596308634402305,
           45.11905082285955,
           null,
           null,
           null
          ],
          [
           41.07155218998703,
           41.12129264571224,
           41.0780327532378,
           41.27106139549589,
           40.90868670827606,
           40.46339687236663,
           42.72278906314015,
           42.131131059003486,
           41.58378502601354,
           44.30941450827356,
           43.615450934343606,
           43.24883941340543,
           null,
           null,
           null
          ],
          [
           41.08404090495755,
           40.889405726698556,
           40.954350474079114,
           41.24159066096795,
           41.24831731374927,
           41.16073976665358,
           42.827355517054855,
           42.84415203086808,
           42.92507416632998,
           43.20765178980901,
           43.241386450915776,
           43.20647324626476,
           41.07155218998703,
           41.12129264571224,
           41.0780327532378
          ],
          [
           43.85307977363911,
           42.730956218344154,
           41.868754689103,
           42.83913396937348,
           42.22279003472416,
           41.41577784809493,
           43.582801544916265,
           43.10999950986318,
           42.862237013140906,
           44.307710066605,
           43.603020198398376,
           43.40870953754,
           41.01133073662899,
           40.76967505965434,
           40.66447804901446
          ],
          [
           46.80026141751504,
           45.98737012988493,
           45.01222950086698,
           43.75395066308682,
           42.42657920351256,
           42.16330905720336,
           44.37298796467402,
           44.03708929508802,
           43.83068157924762,
           42.89523271457444,
           44.232444558479806,
           43.79416010568884,
           41.921057572760226,
           41.690745554900204,
           41.37219814766088
          ],
          [
           47.063741887083374,
           47.64903906948831,
           47.66474222030868,
           44.46693704525321,
           44.73595165724846,
           44.77688888610773,
           44.79641326463428,
           44.875137073665684,
           44.81895310704011,
           43.92744614888476,
           43.923166994032215,
           43.85189030804709,
           null,
           null,
           null
          ],
          [
           43.75263871441485,
           44.91722065007302,
           46.05949945073935,
           42.94907082142526,
           43.50042251806766,
           44.03378176189452,
           44.539726873388375,
           44.66305721893831,
           44.73838591017479,
           43.76456098462877,
           43.823985509159094,
           43.88686966141476,
           null,
           null,
           null
          ],
          [
           40.24250465080839,
           40.81348377291233,
           41.6319293081176,
           41.35522318541271,
           41.65184989464056,
           42.01933149935383,
           43.816076328856006,
           44.00335531758101,
           44.197605594571435,
           43.648062750441035,
           43.655972834037776,
           43.67903739937821,
           null,
           null,
           null
          ],
          [
           43.49199965857899,
           43.29988467089952,
           null,
           42.63908542216104,
           42.70100222634621,
           42.92247531163062,
           39.995853856433015,
           39.79221083662237,
           40.09413012936134,
           39.470895693625515,
           39.36376563474171,
           39.77521139893743,
           41.08404090495755,
           40.889405726698556,
           40.954350474079114
          ],
          [
           41.16002953028415,
           41.43627066291301,
           42.14718635166875,
           43.34368311592726,
           42.85395646881555,
           42.80477043361105,
           44.5574279670657,
           42.59692185224023,
           41.14518239778601,
           44.83997370971272,
           42.780540131467866,
           41.11819815457844,
           43.85307977363911,
           42.730956218344154,
           41.868754689103
          ],
          [
           40.88568973160242,
           40.50447476804626,
           40.38906694988242,
           45.958020911628665,
           44.821175890372984,
           44.039071120959825,
           50.395165530678774,
           48.60061458558939,
           46.68670264829902,
           51.0604418998943,
           49.074445619309515,
           47.01773480823197,
           46.80026141751504,
           45.98737012988493,
           45.01222950086698
          ],
          [
           45.19273384120461,
           43.72230101639747,
           42.40514186159475,
           51.49786072248429,
           50.16086695889367,
           48.782598463563836,
           55.21296657278663,
           54.52008459623719,
           53.37620842483635,
           53.45487310803395,
           53.64384411382606,
           53.106172200402796,
           47.063741887083374,
           47.64903906948831,
           47.66474222030868
          ],
          [
           49.93623132723681,
           48.145597195849476,
           46.6497384787741,
           53.85393107616185,
           53.641721965187315,
           53.10686965733752,
           56.8222991857534,
           56.38686373608732,
           55.838743021173975,
           53.09741958727473,
           53.029426601701545,
           53.06769336020641,
           43.75263871441485,
           44.91722065007302,
           46.05949945073935
          ],
          [
           50.49532409206389,
           50.55856401638414,
           50.592680668313385,
           54.21517060827404,
           54.20862225426365,
           54.14511710988202,
           57.44440338585584,
           57.44524115674092,
           57.3456969866826,
           52.4825106659722,
           52.76043172831188,
           52.958503001728005,
           40.24250465080839,
           40.81348377291233,
           41.6319293081176
          ],
          [
           42.0538699437055,
           41.807315347131244,
           41.37579239459657,
           42.11330457831746,
           41.74403170268756,
           41.20929292560512,
           43.469137723751444,
           42.733456781831144,
           41.82631439547854,
           47.21156532828852,
           46.56475635713138,
           46.234759086996235,
           50.49532409206389,
           50.55856401638414,
           50.592680668313385
          ],
          [
           40.92725857589955,
           40.7252155684702,
           null,
           40.38254245791268,
           39.99343039722407,
           39.85501218222582,
           40.38815354111778,
           39.789401778905656,
           39.30851312327303,
           43.52365062703373,
           42.24140800930247,
           40.86776512770427,
           49.93623132723681,
           48.145597195849476,
           46.6497384787741
          ],
          [
           39.71174261751489,
           39.46214127510983,
           38.87631533508792,
           38.76768446176627,
           38.18740257461041,
           37.72945904740652,
           40.111283568969455,
           39.51132448408613,
           38.94731827080567,
           45.19273384120461,
           43.72230101639747,
           42.40514186159475,
           null,
           null,
           null
          ],
          [
           38.44546838078879,
           38.126189219349826,
           38.468252426818786,
           36.568272006282186,
           36.47400832871442,
           36.558144339009544,
           37.772934422719956,
           37.48949922106327,
           37.693427688658886,
           40.88568973160242,
           40.50447476804626,
           40.38906694988242,
           null,
           null,
           null
          ],
          [
           37.90351385134673,
           37.744295458228834,
           37.81079248315144,
           36.77348614501374,
           37.08450333977759,
           37.29694313064329,
           38.16786171059475,
           38.97519323172427,
           39.633504051925364,
           41.16002953028415,
           41.43627066291301,
           42.14718635166875,
           null,
           null,
           null
          ],
          [
           37.73336422303746,
           37.14309836988436,
           37.253509816139804,
           37.93714225455573,
           38.13444496896522,
           38.12782597041135,
           40.90776467946024,
           40.58509610262119,
           40.732895568522075,
           43.49199965857899,
           43.29988467089952,
           43.056744970528726,
           null,
           42.70100222634621,
           42.92247531163062
          ],
          [
           32.28975677798638,
           32.0756050870732,
           32.13466671858352,
           32.698317566708766,
           32.32718768558862,
           32.318037980914454,
           33.84934262669584,
           33.665989668483135,
           33.56251759389966,
           35.45449605474116,
           35.4610567252398,
           35.44765883018995,
           null,
           null,
           null
          ],
          [
           33.90024413411755,
           33.90123114183809,
           33.925558213384726,
           33.808989089518874,
           33.709429765183984,
           33.49940580443866,
           35.51512672635924,
           35.27368187773416,
           34.97456499190932,
           37.49804977897867,
           36.86221415052401,
           36.34872785260373,
           39.09225540297372,
           38.174181670911096,
           37.53832531510539
          ],
          [
           34.654338408349986,
           34.55606509817057,
           34.49949972769883,
           34.951168371799334,
           34.783444812220516,
           34.81194308340763,
           36.8129226445115,
           36.620969121069166,
           36.51653778508208,
           40.50363982312783,
           40.42683299222201,
           39.87109246626323,
           44.058946480285776,
           43.96222724260225,
           43.544815885908896
          ],
          [
           32.115047477578614,
           32.24514369527534,
           32.47454046224419,
           32.35329769049662,
           32.393999894579444,
           32.442725203191536,
           33.69191129640505,
           33.72281923532099,
           33.661734667308714,
           35.64783640265248,
           35.56773526536073,
           35.36719008024149,
           null,
           null,
           null
          ],
          [
           33.964710217480416,
           33.9886471224086,
           null,
           33.32862948094705,
           33.06006614303206,
           32.544444140849066,
           34.14491166015544,
           33.584588235375996,
           33.10858483124796,
           35.140337701915996,
           34.669125097319295,
           34.22087563471426,
           36.34371277235941,
           36.01098170703795,
           35.69566711665342
          ],
          [
           34.448568574357886,
           34.258874824839054,
           33.95121931617805,
           34.13623866151007,
           34.04969333716838,
           33.96663538717554,
           36.058248276852446,
           35.838070880359915,
           35.69374085085298,
           39.123518529346974,
           38.52578666872089,
           37.97801772155085,
           42.02091698902955,
           40.99075096293922,
           40.011296910019674
          ],
          [
           32.83193423458253,
           32.821967515574045,
           32.92984243625185,
           34.749879598864055,
           34.68533845178242,
           34.743110208917166,
           35.185219761581884,
           35.328449863267245,
           35.35807356834617,
           34.654338408349986,
           34.55606509817057,
           34.49949972769883,
           null,
           null,
           null
          ],
          [
           33.48211173433502,
           34.10723281157687,
           34.79792127307992,
           35.40436635862631,
           35.85935038679766,
           36.27462694076925,
           36.00873638631241,
           35.902981831797064,
           35.74734419411166,
           34.448568574357886,
           34.258874824839054,
           33.95121931617805,
           null,
           null,
           null
          ],
          [
           35.50319409191068,
           36.08763413336901,
           36.620512972372374,
           36.8017574799711,
           36.82238129071277,
           37.186463888857325,
           35.8469299740997,
           35.973054461251685,
           36.05630736670237,
           33.90024413411755,
           33.90123114183809,
           33.925558213384726,
           null,
           null,
           null
          ],
          [
           37.11209228594224,
           37.1981750199613,
           37.133018788831954,
           37.936833615292386,
           38.19746244540705,
           38.447539218197996,
           36.70875269423005,
           36.85326499514637,
           37.198882436643984,
           33.964710217480416,
           33.9886471224086,
           34.004117635452445,
           null,
           33.06006614303206,
           32.544444140849066
          ],
          [
           36.94245632877194,
           36.75959654029237,
           36.66524638880032,
           38.53948259660664,
           38.373937090099304,
           38.39319837362362,
           37.440351371311316,
           37.57467934790556,
           37.759058297437555,
           34.00060332418573,
           34.10886724016487,
           34.18473528907422,
           32.28975677798638,
           32.0756050870732,
           32.13466671858352
          ],
          [
           36.3644119072343,
           36.44096702350901,
           36.48164460374691,
           38.30819494791176,
           38.47747372438865,
           38.7655708026408,
           38.066868820900126,
           38.1609132146637,
           37.97685308526827,
           34.42342095915567,
           34.63945102842277,
           34.473109982122025,
           32.115047477578614,
           32.24514369527534,
           32.47454046224419
          ],
          [
           34.35286685606724,
           34.591825237371594,
           34.49900361356584,
           34.85040147995473,
           35.064982947182486,
           34.9855147249233,
           34.320546044286885,
           34.39010012271142,
           34.48283479272891,
           32.880256820662126,
           32.94452700836778,
           33.0163008515386,
           32.83193423458253,
           32.821967515574045,
           32.92984243625185
          ],
          [
           34.95123480797824,
           35.42259667680643,
           35.72145911475361,
           35.0795322619363,
           35.37397595629976,
           35.42192928395051,
           34.43272014509772,
           34.53174800438537,
           34.72921047000462,
           33.31306899164423,
           33.59863676379278,
           34.12563920747706,
           33.48211173433502,
           34.10723281157687,
           34.79792127307992
          ],
          [
           35.920378770480724,
           36.153796993396284,
           36.331508093760746,
           35.36593544052093,
           35.48857662345434,
           35.63169067088114,
           34.93829150345041,
           35.221317781180666,
           35.479367965711766,
           34.74944164491846,
           35.32696255449605,
           35.82547129663616,
           35.50319409191068,
           36.08763413336901,
           36.620512972372374
          ],
          [
           36.5021465956353,
           36.45996329350171,
           36.34229038272487,
           35.903218558164234,
           35.984506785814105,
           36.038291663014384,
           35.7962991547339,
           35.918405956349126,
           35.9482971992101,
           36.23684210865373,
           36.22327594339525,
           36.097530693657745,
           37.11209228594224,
           37.1981750199613,
           37.133018788831954
          ],
          [
           36.127243400783804,
           35.72248158533559,
           35.10417036640559,
           36.048785324547424,
           35.89323504467508,
           35.65777220043441,
           35.905047056406346,
           35.81492511841848,
           35.828328236602566,
           36.022198937643594,
           35.73892289407254,
           35.623359567351514,
           36.94245632877194,
           36.75959654029237,
           36.66524638880032
          ],
          [
           33.99244919903559,
           33.81085289505284,
           33.817111587574146,
           35.01120868893834,
           35.21136991302354,
           35.101570195547495,
           36.047150483797296,
           36.07780774623684,
           36.20417778069828,
           35.74765687919552,
           35.555528773397874,
           35.7242342617731,
           36.3644119072343,
           36.44096702350901,
           36.48164460374691
          ],
          [
           40.81449064911807,
           41.5410159288274,
           42.21389207692431,
           39.708317971884334,
           39.99467834758968,
           40.32316207016835,
           36.81608537352635,
           36.49610116655021,
           36.24140672562872,
           36.127243400783804,
           35.72248158533559,
           35.10417036640559,
           null,
           null,
           null
          ],
          [
           42.706080982981206,
           43.02944824820629,
           43.40642190699304,
           41.09731853238044,
           41.54095907079604,
           42.044508649664344,
           36.24748142346401,
           36.53786989081109,
           36.38977579709879,
           33.99244919903559,
           33.81085289505284,
           33.817111587574146,
           null,
           null,
           null
          ],
          [
           39.947982248583195,
           40.10088785887263,
           40.355342258815966,
           39.38485188799931,
           39.377807206372196,
           39.49332057845131,
           37.70511609634534,
           37.41115276093473,
           37.091575315541604,
           36.5021465956353,
           36.45996329350171,
           36.34229038272487,
           null,
           null,
           null
          ],
          [
           39.861569816702016,
           39.72620161443873,
           39.74656233990807,
           39.19154012145849,
           39.41349640406625,
           39.53038765521014,
           37.151673124415424,
           37.50669852523596,
           37.78947756109668,
           35.920378770480724,
           36.153796993396284,
           36.331508093760746,
           null,
           null,
           null
          ],
          [
           39.39522954860712,
           38.88884023426546,
           38.64482694162589,
           40.960617638140995,
           40.51697960323614,
           40.14810110683732,
           38.769175600859334,
           38.76088474199635,
           38.93078482094723,
           35.96411662743321,
           36.415004628931456,
           36.6572687793413,
           34.95123480797824,
           35.42259667680643,
           35.72145911475361
          ],
          [
           42.9220899062898,
           42.01024627053916,
           41.02136648597431,
           43.324571670700706,
           42.668534566276,
           42.04798482428582,
           40.041179324466015,
           39.59231375889718,
           39.21207711584107,
           35.678671387067226,
           35.48616611741237,
           35.51351689082785,
           34.35286685606724,
           34.591825237371594,
           34.49900361356584
          ],
          [
           43.70353396382097,
           44.15187220167216,
           44.56598407453645,
           46.886871236190935,
           48.91595197976732,
           50.87727647259615,
           43.425553541004504,
           45.820508216703765,
           48.31675665393755,
           42.13406869548853,
           42.800786315299455,
           43.273102427417776,
           39.947982248583195,
           40.10088785887263,
           40.355342258815966
          ],
          [
           45.96828475732666,
           46.193018177547394,
           46.38929640554476,
           55.01488637625028,
           53.309080910747525,
           51.40567529808931,
           54.07460623270033,
           52.6702952624705,
           50.77821485333102,
           45.127001484879464,
           45.4350946619526,
           45.71832717656097,
           42.706080982981206,
           43.02944824820629,
           43.40642190699304
          ],
          [
           41.55070677497894,
           42.256047033250596,
           42.85095678263709,
           40.187910278286424,
           41.07733360721431,
           42.40470532373051,
           38.52814222891994,
           39.018204186201764,
           39.85641006784733,
           38.62371512073222,
           38.84433146392677,
           39.434084568198216,
           39.861569816702016,
           39.72620161443873,
           39.74656233990807
          ],
          [
           39.95436014184655,
           39.712837322537915,
           39.69819709151464,
           40.73817858987731,
           40.00873274616504,
           39.45279827677701,
           42.75664505789036,
           41.705566495437985,
           40.68038731037092,
           42.9220899062898,
           42.01024627053916,
           41.02136648597431,
           null,
           null,
           null
          ],
          [
           44.92639210374181,
           45.22554669158684,
           45.477721596433724,
           52.787331872712045,
           54.51911928695996,
           55.70273415066335,
           50.683407614365514,
           52.68956985964713,
           54.10435215079512,
           43.70007851881228,
           44.09065050870951,
           44.453754316117355,
           40.81449064911807,
           41.5410159288274,
           42.21389207692431
          ],
          [
           40.092264225139964,
           40.420466457818726,
           40.8946987352913,
           38.960304081690545,
           39.06701007309223,
           39.457913360446824,
           39.08546873973918,
           38.60924049454583,
           38.40804538082523,
           39.39522954860712,
           38.88884023426546,
           38.64482694162589,
           null,
           null,
           null
          ],
          [
           42.87648162711034,
           43.01859910343514,
           43.29946688186486,
           43.72944089532178,
           43.943284650243164,
           44.266461629794605,
           43.152327165685406,
           43.6760385798278,
           44.20315726550511,
           42.49873423230477,
           42.78768502576804,
           43.095528829538104,
           43.70353396382097,
           44.15187220167216,
           44.56598407453645
          ],
          [
           48.45529258906773,
           50.01956824513074,
           51.62502449376067,
           46.27399860045682,
           46.213485228152166,
           46.12093424552058,
           44.89991895488058,
           45.29331621115484,
           45.66471680548405,
           45.96828475732666,
           46.193018177547394,
           46.38929640554476,
           null,
           null,
           null
          ],
          [
           43.731113751222765,
           44.32522732186282,
           null,
           44.603375246063294,
           45.14387248358826,
           45.94100092042472,
           44.749914610424426,
           45.29674494749306,
           45.78934472584954,
           43.4204488728335,
           43.761498596245936,
           44.1183996311147,
           44.92639210374181,
           45.22554669158684,
           45.477721596433724
          ],
          [
           42.344495377129206,
           42.56865602066777,
           42.74337051467838,
           43.06966116787729,
           43.33835153799207,
           43.55325062686197,
           41.80849290460643,
           41.92508089613001,
           42.18409070086988,
           41.69166447423036,
           41.81366625693065,
           41.996144698498696,
           41.55070677497894,
           42.256047033250596,
           42.85095678263709
          ],
          [
           41.6604989627571,
           41.857390739543796,
           42.09647559478592,
           42.589481539929324,
           42.64055194005823,
           42.80803638786844,
           42.15902618940538,
           41.94007953097857,
           41.81818429344988,
           41.44958058137756,
           41.50475485878994,
           41.590314080408376,
           40.092264225139964,
           40.420466457818726,
           40.8946987352913
          ],
          [
           42.01115974810871,
           41.67162498736818,
           41.52632724936855,
           42.84815505237524,
           42.63301880108441,
           42.55917610867504,
           43.65874980595172,
           43.21236959152724,
           42.82020426207465,
           41.80937971851473,
           41.601592430808545,
           41.48445722973598,
           39.95436014184655,
           39.712837322537915,
           39.69819709151464
          ],
          [
           42.492483077434606,
           42.340008126906895,
           42.22988339556566,
           42.35250583365044,
           42.51493818654532,
           42.70116999086473,
           40.58694090663585,
           40.6081329245821,
           40.67138795070728,
           41.43462270085083,
           41.006451159178106,
           40.501651080891165,
           null,
           null,
           null
          ],
          [
           43.097896495663065,
           43.003012600987105,
           42.83452482615424,
           42.183116016961776,
           42.20511313792937,
           42.20722212138501,
           40.56281850764973,
           40.58482080296684,
           40.58711264139705,
           41.35486050577137,
           41.724678960565335,
           41.881021768184574,
           null,
           null,
           null
          ],
          [
           42.92642871273485,
           42.63264195316874,
           null,
           42.876550297094234,
           43.03166894686217,
           43.10449020291366,
           41.73307367197937,
           41.960540271701134,
           42.10624106948759,
           40.251130012221154,
           40.40840741030449,
           40.50813209741555,
           39.22786976392986,
           40.05449189484291,
           40.783957531992165
          ],
          [
           41.024860113759516,
           41.91680275370239,
           42.62062026288687,
           40.78548005840659,
           41.516278289515164,
           42.1665026457418,
           39.99664511353729,
           40.511534104037,
           40.990158225984416,
           38.85266305014694,
           39.24129778731958,
           39.671422126355004,
           37.016766801481445,
           37.358006928600695,
           37.83324642175053
          ],
          [
           38.96201086317976,
           39.47179096964812,
           40.17657538337538,
           38.91103537712109,
           39.450364397849086,
           40.08570538372353,
           38.44952042514823,
           38.944113136963246,
           39.466996412301974,
           37.81833666547399,
           38.128493133057205,
           38.479383721523796,
           36.81297978080913,
           36.74385008927595,
           36.81172046113771
          ],
          [
           38.40054094680953,
           38.16060699528369,
           38.33766914488579,
           38.26386843257882,
           38.16032202433301,
           38.24631001488304,
           37.47095391241173,
           37.42257373740991,
           37.63459378188723,
           37.56436439116907,
           37.36345324964531,
           37.39415066614453,
           38.454923489171534,
           37.84022694125746,
           37.361382436387764
          ],
          [
           40.74822189089579,
           39.65004097257603,
           38.58527679657348,
           39.72888407670551,
           38.86718397057194,
           38.102716433674516,
           38.82038828850941,
           38.61391313490148,
           38.65145814767093,
           38.40054094680953,
           38.16060699528369,
           38.33766914488579,
           null,
           null,
           null
          ],
          [
           36.657418098792306,
           35.78816078401162,
           35.22733053475825,
           36.862936880183966,
           36.38451998229238,
           35.99834841576771,
           39.054679959241554,
           39.28745632731755,
           39.497088650442876,
           38.96201086317976,
           39.47179096964812,
           40.17657538337538,
           null,
           null,
           null
          ],
          [
           34.983702989039315,
           35.01993405318192,
           35.33309501203027,
           35.70177371986524,
           35.47948157911887,
           35.326201113283176,
           39.65202129551777,
           39.72040618258467,
           39.76156397187896,
           41.024860113759516,
           41.91680275370239,
           42.62062026288687,
           null,
           null,
           null
          ],
          [
           36.969889621097956,
           38.08300526953689,
           39.15034415029855,
           35.22008307267751,
           35.35950756838226,
           35.64709845385819,
           39.50506801895542,
           39.26031869215006,
           38.94004478245194,
           42.92642871273485,
           42.63264195316874,
           42.22023996003343,
           null,
           43.03166894686217,
           43.10449020291366
          ],
          [
           40.07684142676528,
           40.80748951242949,
           41.51211812937092,
           36.029040642346175,
           36.45447178643999,
           36.87252953848679,
           38.571175912307346,
           38.184017567388686,
           37.83990779534511,
           41.74026906430123,
           41.22813581383623,
           40.71482444466562,
           43.097896495663065,
           43.003012600987105,
           42.83452482615424
          ],
          [
           42.30455948916795,
           42.05802272823975,
           41.68789458799247,
           37.48867219764327,
           37.69829505978882,
           37.889193658448335,
           37.730208992905474,
           38.01928489468552,
           38.431705562263765,
           39.859439507481646,
           39.74680210808001,
           39.83066503103809,
           42.492483077434606,
           42.340008126906895,
           42.22988339556566
          ],
          [
           41.50669247579927,
           41.63087934781159,
           41.70575817626892,
           41.58731561292663,
           41.79693722687829,
           41.87345923204164,
           42.28826395897565,
           42.11264856583589,
           41.93061733484958,
           41.52117400123643,
           40.70009201263535,
           39.806298845975846,
           40.74822189089579,
           39.65004097257603,
           38.58527679657348
          ],
          [
           41.77905183480797,
           41.806167751964715,
           41.84606378580219,
           41.78683644169024,
           41.78890801137226,
           41.8452665385945,
           41.377260258839925,
           41.02165515928677,
           40.65410407183429,
           38.19265515412931,
           37.55713038268379,
           37.08642596886598,
           36.657418098792306,
           35.78816078401162,
           35.22733053475825
          ],
          [
           41.91309047983428,
           42.02159837770372,
           42.18592754874302,
           41.85647536917994,
           41.86816937808334,
           41.939667936340086,
           40.305737937606374,
           40.02576280198925,
           39.91324011984576,
           36.81850864375329,
           36.782580270607205,
           36.97620484929281,
           34.983702989039315,
           35.01993405318192,
           35.33309501203027
          ],
          [
           42.70937595297487,
           43.02928063859503,
           43.35007578627723,
           42.31716716993427,
           42.58025538397291,
           42.81911746039832,
           40.377432523533955,
           40.80901554399645,
           41.262502639914395,
           38.135155985842665,
           39.00501105600603,
           40.0070786177584,
           36.969889621097956,
           38.08300526953689,
           39.15034415029855
          ],
          [
           43.64338774516453,
           43.880842864400016,
           44.03406749306371,
           43.046482274370334,
           43.32785149016658,
           43.587463222691845,
           41.70023926491867,
           42.085820989306555,
           42.380728095319114,
           41.07606404483729,
           42.141937191678736,
           43.11171761120956,
           40.07684142676528,
           40.80748951242949,
           41.51211812937092
          ],
          [
           43.96819468594899,
           43.716746038156764,
           43.37085617136293,
           43.705633367785076,
           43.51006016543349,
           43.239115480371126,
           42.761371793020295,
           42.701815203951675,
           42.595149907955594,
           43.981285778148695,
           43.72851969075583,
           43.285301918008216,
           42.30455948916795,
           42.05802272823975,
           41.68789458799247
          ],
          [
           42.894637956724225,
           42.78677105662437,
           42.6403256463525,
           43.896704380498626,
           43.656707973288036,
           43.40968554392072,
           44.05489459653339,
           43.64090541540102,
           43.13727769071776,
           43.96819468594899,
           43.716746038156764,
           43.37085617136293,
           null,
           null,
           null
          ],
          [
           42.51921286613198,
           42.735218511480966,
           42.87508556117019,
           43.86489602984294,
           43.98658553090623,
           44.05111516826305,
           43.93235538842811,
           44.12408178219493,
           44.244450030843275,
           43.64338774516453,
           43.880842864400016,
           44.03406749306371,
           null,
           null,
           null
          ],
          [
           41.4997297361002,
           41.892931940481056,
           42.23560516314515,
           42.99205194706279,
           43.360938985894514,
           43.65494527328768,
           43.16535849359173,
           43.47423672041245,
           43.70663124500605,
           42.70937595297487,
           43.02928063859503,
           43.35007578627723,
           null,
           null,
           null
          ],
          [
           39.62902244557483,
           40.13285680875493,
           40.612363396647595,
           40.89875750736349,
           41.497249734685305,
           42.06785482893119,
           41.969341711088234,
           42.18649590766105,
           42.45289238853925,
           41.91309047983428,
           42.02159837770372,
           42.18592754874302,
           null,
           null,
           null
          ],
          [
           38.131659645295336,
           38.372877540530766,
           38.65946347301299,
           38.320243932672405,
           38.694019602423026,
           39.13926701755613,
           39.65027523424574,
           40.008206640337875,
           40.39921874622155,
           41.361837737707,
           41.55365042872955,
           41.76049123844078,
           41.77905183480797,
           41.806167751964715,
           41.84606378580219
          ],
          [
           37.960624438681855,
           37.82730904920145,
           37.885648456786384,
           38.07914535394789,
           37.897384717506846,
           37.89496275805686,
           39.05167806992401,
           38.98585456638986,
           39.097661585518374,
           40.85679986399125,
           40.93622479379276,
           41.048581254242336,
           41.50669247579927,
           41.63087934781159,
           41.70575817626892
          ],
          [
           41.391272819774244,
           41.72616287227435,
           42.079598216126016,
           41.24218288218533,
           41.55830707725995,
           41.944511552210514,
           40.304681188724956,
           40.58256152041101,
           40.8603884818013,
           41.03389199070013,
           41.16295763703668,
           41.331662441392275,
           42.894637956724225,
           42.78677105662437,
           42.6403256463525
          ],
          [
           41.259210305318334,
           41.12693384977449,
           41.13886623740771,
           41.09042930903783,
           41.02209006806143,
           41.00087368350237,
           40.23898061342902,
           40.17903182528924,
           40.150070637044244,
           40.529078881394334,
           40.69041711443222,
           40.838028452889446,
           42.51921286613198,
           42.735218511480966,
           42.87508556117019
          ],
          [
           41.77597100409549,
           41.63973209468945,
           41.45338076570273,
           41.24940316607635,
           41.23696395848971,
           41.17301330599542,
           40.313293336627375,
           40.285886491300154,
           40.282606887880696,
           39.99756216951831,
           40.18972247957517,
           40.36478986953255,
           41.4997297361002,
           41.892931940481056,
           42.23560516314515
          ],
          [
           41.15936509822352,
           41.464060411688806,
           41.72770495837795,
           40.402449224645466,
           40.7505548715986,
           41.002705830676014,
           39.65752499393687,
           39.976934153755884,
           40.20444635915373,
           38.957274708772246,
           39.25202438648704,
           39.531328455947786,
           39.62902244557483,
           40.13285680875493,
           40.612363396647595
          ],
          [
           40.53751176307721,
           40.74278483699206,
           40.94765235009132,
           39.21531769494911,
           39.5897172698652,
           40.00046556870911,
           38.59998602652768,
           38.909719901727314,
           39.28506969836849,
           38.131659645295336,
           38.372877540530766,
           38.65946347301299,
           null,
           null,
           null
          ],
          [
           40.45116349432006,
           40.249750026634224,
           40.23993807459747,
           38.982518009917875,
           38.76624609932293,
           38.75783408353948,
           38.39961294975031,
           38.27365818085371,
           38.33592730680061,
           37.960624438681855,
           37.82730904920145,
           37.885648456786384,
           null,
           null,
           null
          ],
          [
           40.56059892570342,
           40.07103816606641,
           null,
           39.91644776658635,
           39.56590134276497,
           39.55822244284429,
           40.5805485053367,
           40.61360288912747,
           40.8172580128187,
           41.49985007250223,
           41.4639819719914,
           41.42093752831228,
           41.259210305318334,
           41.12693384977449,
           41.13886623740771
          ],
          [
           39.900507200319126,
           40.66294867683029,
           41.59575394734274,
           41.91212933845578,
           42.77555049263164,
           43.703648639823626,
           41.69678631905977,
           42.10304247639415,
           42.642427749510986,
           41.391272819774244,
           41.72616287227435,
           42.079598216126016,
           null,
           null,
           null
          ],
          [
           40.838135929393225,
           40.83342242667755,
           40.98289463584175,
           40.852466165615716,
           40.52296680025318,
           40.51558723413037,
           42.670259763638235,
           42.18516907982365,
           41.89703421153257,
           42.64259156511739,
           42.46176852157561,
           42.357909726255706,
           40.45116349432006,
           40.249750026634224,
           40.23993807459747
          ],
          [
           41.64430413620268,
           42.09912864445354,
           42.59189834011463,
           40.94912510640207,
           41.19636205907659,
           41.41493758328707,
           41.62384268697073,
           41.578982903169084,
           41.56186013424556,
           42.21401929487358,
           42.2010540315769,
           42.20317922473973,
           40.53751176307721,
           40.74278483699206,
           40.94765235009132
          ],
          [
           43.087972712798326,
           43.50692872905064,
           43.71887678261288,
           41.6572867037035,
           41.960469710105365,
           42.17868455904481,
           41.54740915213245,
           41.51056472874377,
           41.426323655061964,
           42.20210496263249,
           42.182429838816816,
           42.12675163281569,
           41.15936509822352,
           41.464060411688806,
           41.72770495837795
          ],
          [
           43.07508627420071,
           42.27299942928072,
           41.3518351170136,
           41.76479068168886,
           41.215471564621765,
           40.55179945940655,
           41.062969292189486,
           40.84943375709851,
           40.67389281140399,
           41.88751501425673,
           41.732255148038234,
           41.58728470434543,
           41.77597100409549,
           41.63973209468945,
           41.45338076570273
          ],
          [
           37.29356352596146,
           37.986261602507916,
           38.62348193881908,
           37.32381377222135,
           37.348631350065354,
           37.22907058356379,
           36.4751241399227,
           35.97020608013187,
           35.306128259405526,
           35.37106829444737,
           35.631585544808864,
           35.872538730134664,
           36.07496507668615,
           36.923794273702384,
           37.73900813042333
          ],
          [
           33.22080078420924,
           33.51215013652981,
           33.95166956347566,
           33.14170119000942,
           33.749018071554616,
           34.425208224527495,
           33.828755056920656,
           34.22930591350339,
           34.79290425685576,
           33.48843641933383,
           33.61227522112282,
           33.819884568450874,
           33.231241262089654,
           33.296981393152684,
           33.51075566421317
          ],
          [
           36.72181627938791,
           35.7995691278787,
           35.008398489837816,
           37.94646805906875,
           36.963245976633274,
           35.90088461664879,
           37.53804786336899,
           36.45134756606995,
           35.4833932471214,
           37.003159929058064,
           36.21406046003351,
           35.511517044486965,
           36.42133665759042,
           35.77329071316161,
           35.153801293767486
          ],
          [
           34.497723477975754,
           35.1273468565672,
           35.817574675344645,
           35.05581289148385,
           35.63212982386486,
           36.29858025171272,
           35.41070756359713,
           35.981143784151726,
           36.41677497495191,
           34.08339586681742,
           34.380194938861,
           34.70794341929436,
           33.83657952630721,
           34.24655380797465,
           34.75096055933218
          ],
          [
           34.44421808753876,
           33.885234669828,
           33.40986017086371,
           34.825271469809316,
           33.85009946712927,
           33.14494687896756,
           34.6744602820046,
           34.05240608885691,
           33.660408528937936,
           34.90924268651962,
           34.35564366222408,
           33.856280937132404,
           34.57455698003833,
           34.05576538040628,
           33.63299015551965
          ],
          [
           39.32607753514103,
           38.970914137183016,
           38.39018138296901,
           41.22674452642547,
           40.714025429927005,
           39.832819068967986,
           41.84756215457569,
           41.006333599918584,
           39.884813594435265,
           40.30808921884213,
           39.57720492351953,
           38.74337256071324,
           null,
           38.48245904091999,
           37.766475738894805
          ],
          [
           35.25494125987903,
           35.99927118989398,
           36.574272125428664,
           35.28697043117801,
           35.94663047069421,
           36.64470679428869,
           34.93304431112785,
           35.50661213511498,
           36.15046904670898,
           34.497723477975754,
           35.1273468565672,
           35.817574675344645,
           null,
           null,
           null
          ],
          [
           38.83879560036953,
           37.90544045189716,
           36.76878859210404,
           40.57657176662843,
           39.624127332703054,
           38.428374989898174,
           40.30915836092159,
           39.40705569189959,
           38.39304657308986,
           38.978543645768504,
           38.32316238515761,
           37.60145662156184,
           39.32607753514103,
           38.970914137183016,
           38.39018138296901
          ],
          [
           34.41608930233192,
           33.41680048516987,
           32.56705381763584,
           36.13046875136273,
           34.929249945812266,
           33.79349737389051,
           36.35189910443906,
           35.53708588120268,
           34.60105897664778,
           36.05417111818607,
           35.31761689690144,
           34.65697802619093,
           36.72181627938791,
           35.7995691278787,
           35.008398489837816
          ],
          [
           31.837558410719215,
           31.252846654588673,
           30.888317692483174,
           32.840407322397496,
           32.16309750028082,
           31.853719640461012,
           33.70558401034948,
           33.07277053119918,
           32.80138411051567,
           34.110637690906586,
           33.71696316147815,
           33.51432703560394,
           34.44421808753876,
           33.885234669828,
           33.40986017086371
          ],
          [
           32.60956765697301,
           33.476985878033986,
           34.39595520086347,
           33.41218949125736,
           34.03891839032554,
           34.67631745144099,
           33.73382574462053,
           34.03667607815093,
           34.4397406128966,
           33.22080078420924,
           33.51215013652981,
           33.95166956347566,
           null,
           null,
           null
          ],
          [
           36.99761352156385,
           36.75263813458879,
           36.24394823731238,
           37.79445151102654,
           38.0449990719762,
           38.1052566626424,
           37.5640917324636,
           38.29127812628142,
           39.02121441452704,
           37.29356352596146,
           37.986261602507916,
           38.62348193881908,
           null,
           null,
           null
          ],
          [
           42.532152499390506,
           43.239803453515336,
           44.1359993533383,
           39.81323290897028,
           41.048359361162284,
           42.98403403073978,
           36.592552294106945,
           37.125839607283595,
           37.69346766078699,
           35.4696160324775,
           35.06438917856056,
           34.161763760050896,
           36.99761352156385,
           36.75263813458879,
           36.24394823731238
          ],
          [
           42.058442694181196,
           42.19659114918678,
           42.282477216564956,
           40.22451660814442,
           39.86288970947053,
           39.52818283485509,
           34.938117526416065,
           35.28454827797127,
           35.67713392515842,
           33.324333785182525,
           33.991619485322346,
           34.664045006564315,
           35.25494125987903,
           35.99927118989398,
           36.574272125428664
          ],
          [
           41.667836655760354,
           41.798744305056125,
           41.92533774396582,
           41.496556923030724,
           40.960616279087,
           40.53686193936078,
           34.200089628060944,
           34.393770803594506,
           34.64035419390539,
           31.419031659472004,
           32.07865896547372,
           32.7117448728338,
           32.60956765697301,
           33.476985878033986,
           34.39595520086347
          ],
          [
           40.33762733663255,
           40.8193893928734,
           41.24565088026986,
           40.70167213948689,
           41.07306975016119,
           41.60766987448319,
           34.3791631950924,
           34.18077784804307,
           34.080279300176926,
           31.837558410719215,
           31.252846654588673,
           30.888317692483174,
           null,
           null,
           31.853719640461012
          ],
          [
           39.48504927371417,
           39.62594874436879,
           39.921416449641185,
           39.902035011661894,
           40.15600012919137,
           40.435550907286874,
           35.58048817982335,
           35.07203699192587,
           34.67403893752192,
           34.41608930233192,
           33.41680048516987,
           32.56705381763584,
           null,
           null,
           null
          ],
          [
           40.74596138487988,
           40.021679480908645,
           39.65261871268654,
           41.06309865731091,
           40.19513823081027,
           39.78490706997723,
           39.08761352579403,
           37.90527368037717,
           36.96933829910962,
           38.83879560036953,
           37.90544045189716,
           36.76878859210404,
           null,
           null,
           null
          ],
          [
           36.343053621412594,
           36.53217489872996,
           36.85955558031814,
           35.982326958488905,
           36.26571300161028,
           36.66603907537124,
           35.3406355336351,
           35.57062028423286,
           35.950341299266114,
           36.24072093212273,
           36.42673623885068,
           36.80276104347141,
           40.33762733663255,
           40.8193893928734,
           41.24565088026986
          ],
          [
           41.98385348545822,
           42.26102005232723,
           42.42124124189772,
           42.854527641554775,
           43.15830987917688,
           43.27191391435848,
           43.74714934951801,
           43.9243352651468,
           43.9035965900523,
           42.532152499390506,
           43.239803453515336,
           44.1359993533383,
           null,
           null,
           null
          ],
          [
           38.79079664438532,
           38.07278220946067,
           37.44511667442115,
           37.69039805168608,
           36.994817381632224,
           36.49057051398448,
           38.12821728112751,
           37.15884988955992,
           36.393956862262584,
           39.977487129949516,
           38.961927147553446,
           38.06685387847978,
           40.74596138487988,
           40.021679480908645,
           39.65261871268654
          ],
          [
           37.917888395682105,
           38.51489518524049,
           39.188699600079715,
           37.79351020618174,
           38.48057405907982,
           39.118095535628015,
           37.25835350884497,
           38.10498063499954,
           38.87277935824558,
           38.19293684663341,
           39.14099134518004,
           40.09318647458338,
           41.667836655760354,
           41.798744305056125,
           41.92533774396582
          ],
          [
           39.84758771641624,
           40.442994245978895,
           40.93121584128906,
           39.709181968711434,
           40.354960520171645,
           40.99596904706404,
           39.76961254960811,
           40.70926847442584,
           41.57956355343676,
           41.01244237530563,
           41.86334034790868,
           42.61298674227557,
           42.058442694181196,
           42.19659114918678,
           42.282477216564956
          ],
          [
           39.722853769016346,
           39.62118876873229,
           39.44119495350196,
           39.62712761252632,
           39.54300585538152,
           39.325116362602245,
           40.809772426998514,
           40.55126638467246,
           40.19885348015678,
           41.40752493573175,
           41.294270835571304,
           40.98719565597994,
           41.98385348545822,
           42.26102005232723,
           42.42124124189772
          ],
          [
           39.3723512952525,
           39.49963902159778,
           39.591784475641305,
           38.66070155459749,
           38.95614102207053,
           39.23232029732492,
           39.40483313588819,
           40.02989777141356,
           40.51099220661017,
           39.84758771641624,
           40.442994245978895,
           40.93121584128906,
           null,
           null,
           null
          ],
          [
           38.53850506562439,
           38.511180637339464,
           38.5594548274915,
           36.71122312797825,
           36.7232970567007,
           36.8450219666011,
           35.89660416177803,
           36.020262418013694,
           36.296338286571185,
           36.343053621412594,
           36.53217489872996,
           36.85955558031814,
           null,
           null,
           null
          ],
          [
           38.8207123342886,
           39.013734083212135,
           39.205981191201786,
           37.427700730904014,
           37.84667748580837,
           38.27738273171384,
           37.28475156124407,
           37.958850185712244,
           38.694812530559744,
           37.917888395682105,
           38.51489518524049,
           39.188699600079715,
           null,
           null,
           null
          ],
          [
           39.24206971627749,
           38.918689727847934,
           38.67439895360784,
           37.30972568575709,
           37.00479977641871,
           36.805214089351004,
           36.42585615394254,
           36.102553657278655,
           35.925085450710455,
           36.597441595568526,
           36.376367311063255,
           36.291376511279125,
           null,
           null,
           null
          ],
          [
           44.20409349981526,
           43.54450205502085,
           42.81031613927048,
           41.70714306351009,
           40.885071145262906,
           40.20350764718562,
           39.727654245729454,
           38.89363490572204,
           38.23748800043398,
           39.091324580366724,
           38.18544760582417,
           37.47512489575414,
           38.79079664438532,
           38.07278220946067,
           37.44511667442115
          ],
          [
           40.6067438397265,
           40.634899398865144,
           40.365265352331065,
           41.51899971361757,
           41.48282063989061,
           40.98693340694783,
           43.33559793973725,
           43.03554944660544,
           42.41385637418783,
           42.32122189433671,
           42.016074100488126,
           41.5043501332381,
           39.722853769016346,
           39.62118876873229,
           39.44119495350196
          ],
          [
           38.26382791839853,
           38.58242772112875,
           39.02570185619235,
           37.523409600905296,
           38.12495132985419,
           38.75308912154937,
           38.52439727801558,
           39.128982381044544,
           39.90686424161644,
           39.48138172423095,
           40.055015646708135,
           40.65358426934709,
           38.8207123342886,
           39.013734083212135,
           39.205981191201786
          ],
          [
           39.46945237102032,
           39.84288991030122,
           40.0867527925032,
           39.25461739247451,
           39.827984764925205,
           40.48726162754451,
           40.77385494039474,
           41.64602844162798,
           42.439458709114135,
           41.22638367182967,
           41.72270993383782,
           42.09185913487427,
           39.3723512952525,
           39.49963902159778,
           39.591784475641305
          ],
          [
           39.84639226198417,
           39.09713464942829,
           38.51317403205526,
           38.2866898220895,
           37.76673140250953,
           37.382827020325955,
           38.41992509002838,
           38.034072243197166,
           37.930398542484475,
           39.38276631534015,
           39.03303038218657,
           38.9033022057583,
           38.53850506562439,
           38.511180637339464,
           38.5594548274915
          ],
          [
           42.48392828142204,
           41.574283100673185,
           40.683774213232375,
           40.78579247023386,
           39.76275731029166,
           38.92276332318754,
           40.888623754882175,
           39.8849734132766,
           39.04948878805247,
           41.29647262147643,
           40.56029601411652,
           39.90712438553551,
           39.24206971627749,
           38.918689727847934,
           38.67439895360784
          ],
          [
           45.626937292038086,
           44.987585173748656,
           44.23544285993864,
           45.183988695350436,
           44.07557471443612,
           42.979149943602216,
           45.094197153151526,
           44.14049780266235,
           43.104791770676066,
           44.20409349981526,
           43.54450205502085,
           42.81031613927048,
           null,
           null,
           null
          ]
         ]
        }
       ],
       "layout": {
        "template": {
         "data": {
          "bar": [
           {
            "error_x": {
             "color": "#2a3f5f"
            },
            "error_y": {
             "color": "#2a3f5f"
            },
            "marker": {
             "line": {
              "color": "#E5ECF6",
              "width": 0.5
             },
             "pattern": {
              "fillmode": "overlay",
              "size": 10,
              "solidity": 0.2
             }
            },
            "type": "bar"
           }
          ],
          "barpolar": [
           {
            "marker": {
             "line": {
              "color": "#E5ECF6",
              "width": 0.5
             },
             "pattern": {
              "fillmode": "overlay",
              "size": 10,
              "solidity": 0.2
             }
            },
            "type": "barpolar"
           }
          ],
          "carpet": [
           {
            "aaxis": {
             "endlinecolor": "#2a3f5f",
             "gridcolor": "white",
             "linecolor": "white",
             "minorgridcolor": "white",
             "startlinecolor": "#2a3f5f"
            },
            "baxis": {
             "endlinecolor": "#2a3f5f",
             "gridcolor": "white",
             "linecolor": "white",
             "minorgridcolor": "white",
             "startlinecolor": "#2a3f5f"
            },
            "type": "carpet"
           }
          ],
          "choropleth": [
           {
            "colorbar": {
             "outlinewidth": 0,
             "ticks": ""
            },
            "type": "choropleth"
           }
          ],
          "contour": [
           {
            "colorbar": {
             "outlinewidth": 0,
             "ticks": ""
            },
            "colorscale": [
             [
              0,
              "#0d0887"
             ],
             [
              0.1111111111111111,
              "#46039f"
             ],
             [
              0.2222222222222222,
              "#7201a8"
             ],
             [
              0.3333333333333333,
              "#9c179e"
             ],
             [
              0.4444444444444444,
              "#bd3786"
             ],
             [
              0.5555555555555556,
              "#d8576b"
             ],
             [
              0.6666666666666666,
              "#ed7953"
             ],
             [
              0.7777777777777778,
              "#fb9f3a"
             ],
             [
              0.8888888888888888,
              "#fdca26"
             ],
             [
              1,
              "#f0f921"
             ]
            ],
            "type": "contour"
           }
          ],
          "contourcarpet": [
           {
            "colorbar": {
             "outlinewidth": 0,
             "ticks": ""
            },
            "type": "contourcarpet"
           }
          ],
          "heatmap": [
           {
            "colorbar": {
             "outlinewidth": 0,
             "ticks": ""
            },
            "colorscale": [
             [
              0,
              "#0d0887"
             ],
             [
              0.1111111111111111,
              "#46039f"
             ],
             [
              0.2222222222222222,
              "#7201a8"
             ],
             [
              0.3333333333333333,
              "#9c179e"
             ],
             [
              0.4444444444444444,
              "#bd3786"
             ],
             [
              0.5555555555555556,
              "#d8576b"
             ],
             [
              0.6666666666666666,
              "#ed7953"
             ],
             [
              0.7777777777777778,
              "#fb9f3a"
             ],
             [
              0.8888888888888888,
              "#fdca26"
             ],
             [
              1,
              "#f0f921"
             ]
            ],
            "type": "heatmap"
           }
          ],
          "heatmapgl": [
           {
            "colorbar": {
             "outlinewidth": 0,
             "ticks": ""
            },
            "colorscale": [
             [
              0,
              "#0d0887"
             ],
             [
              0.1111111111111111,
              "#46039f"
             ],
             [
              0.2222222222222222,
              "#7201a8"
             ],
             [
              0.3333333333333333,
              "#9c179e"
             ],
             [
              0.4444444444444444,
              "#bd3786"
             ],
             [
              0.5555555555555556,
              "#d8576b"
             ],
             [
              0.6666666666666666,
              "#ed7953"
             ],
             [
              0.7777777777777778,
              "#fb9f3a"
             ],
             [
              0.8888888888888888,
              "#fdca26"
             ],
             [
              1,
              "#f0f921"
             ]
            ],
            "type": "heatmapgl"
           }
          ],
          "histogram": [
           {
            "marker": {
             "pattern": {
              "fillmode": "overlay",
              "size": 10,
              "solidity": 0.2
             }
            },
            "type": "histogram"
           }
          ],
          "histogram2d": [
           {
            "colorbar": {
             "outlinewidth": 0,
             "ticks": ""
            },
            "colorscale": [
             [
              0,
              "#0d0887"
             ],
             [
              0.1111111111111111,
              "#46039f"
             ],
             [
              0.2222222222222222,
              "#7201a8"
             ],
             [
              0.3333333333333333,
              "#9c179e"
             ],
             [
              0.4444444444444444,
              "#bd3786"
             ],
             [
              0.5555555555555556,
              "#d8576b"
             ],
             [
              0.6666666666666666,
              "#ed7953"
             ],
             [
              0.7777777777777778,
              "#fb9f3a"
             ],
             [
              0.8888888888888888,
              "#fdca26"
             ],
             [
              1,
              "#f0f921"
             ]
            ],
            "type": "histogram2d"
           }
          ],
          "histogram2dcontour": [
           {
            "colorbar": {
             "outlinewidth": 0,
             "ticks": ""
            },
            "colorscale": [
             [
              0,
              "#0d0887"
             ],
             [
              0.1111111111111111,
              "#46039f"
             ],
             [
              0.2222222222222222,
              "#7201a8"
             ],
             [
              0.3333333333333333,
              "#9c179e"
             ],
             [
              0.4444444444444444,
              "#bd3786"
             ],
             [
              0.5555555555555556,
              "#d8576b"
             ],
             [
              0.6666666666666666,
              "#ed7953"
             ],
             [
              0.7777777777777778,
              "#fb9f3a"
             ],
             [
              0.8888888888888888,
              "#fdca26"
             ],
             [
              1,
              "#f0f921"
             ]
            ],
            "type": "histogram2dcontour"
           }
          ],
          "mesh3d": [
           {
            "colorbar": {
             "outlinewidth": 0,
             "ticks": ""
            },
            "type": "mesh3d"
           }
          ],
          "parcoords": [
           {
            "line": {
             "colorbar": {
              "outlinewidth": 0,
              "ticks": ""
             }
            },
            "type": "parcoords"
           }
          ],
          "pie": [
           {
            "automargin": true,
            "type": "pie"
           }
          ],
          "scatter": [
           {
            "fillpattern": {
             "fillmode": "overlay",
             "size": 10,
             "solidity": 0.2
            },
            "type": "scatter"
           }
          ],
          "scatter3d": [
           {
            "line": {
             "colorbar": {
              "outlinewidth": 0,
              "ticks": ""
             }
            },
            "marker": {
             "colorbar": {
              "outlinewidth": 0,
              "ticks": ""
             }
            },
            "type": "scatter3d"
           }
          ],
          "scattercarpet": [
           {
            "marker": {
             "colorbar": {
              "outlinewidth": 0,
              "ticks": ""
             }
            },
            "type": "scattercarpet"
           }
          ],
          "scattergeo": [
           {
            "marker": {
             "colorbar": {
              "outlinewidth": 0,
              "ticks": ""
             }
            },
            "type": "scattergeo"
           }
          ],
          "scattergl": [
           {
            "marker": {
             "colorbar": {
              "outlinewidth": 0,
              "ticks": ""
             }
            },
            "type": "scattergl"
           }
          ],
          "scattermapbox": [
           {
            "marker": {
             "colorbar": {
              "outlinewidth": 0,
              "ticks": ""
             }
            },
            "type": "scattermapbox"
           }
          ],
          "scatterpolar": [
           {
            "marker": {
             "colorbar": {
              "outlinewidth": 0,
              "ticks": ""
             }
            },
            "type": "scatterpolar"
           }
          ],
          "scatterpolargl": [
           {
            "marker": {
             "colorbar": {
              "outlinewidth": 0,
              "ticks": ""
             }
            },
            "type": "scatterpolargl"
           }
          ],
          "scatterternary": [
           {
            "marker": {
             "colorbar": {
              "outlinewidth": 0,
              "ticks": ""
             }
            },
            "type": "scatterternary"
           }
          ],
          "surface": [
           {
            "colorbar": {
             "outlinewidth": 0,
             "ticks": ""
            },
            "colorscale": [
             [
              0,
              "#0d0887"
             ],
             [
              0.1111111111111111,
              "#46039f"
             ],
             [
              0.2222222222222222,
              "#7201a8"
             ],
             [
              0.3333333333333333,
              "#9c179e"
             ],
             [
              0.4444444444444444,
              "#bd3786"
             ],
             [
              0.5555555555555556,
              "#d8576b"
             ],
             [
              0.6666666666666666,
              "#ed7953"
             ],
             [
              0.7777777777777778,
              "#fb9f3a"
             ],
             [
              0.8888888888888888,
              "#fdca26"
             ],
             [
              1,
              "#f0f921"
             ]
            ],
            "type": "surface"
           }
          ],
          "table": [
           {
            "cells": {
             "fill": {
              "color": "#EBF0F8"
             },
             "line": {
              "color": "white"
             }
            },
            "header": {
             "fill": {
              "color": "#C8D4E3"
             },
             "line": {
              "color": "white"
             }
            },
            "type": "table"
           }
          ]
         },
         "layout": {
          "annotationdefaults": {
           "arrowcolor": "#2a3f5f",
           "arrowhead": 0,
           "arrowwidth": 1
          },
          "autotypenumbers": "strict",
          "coloraxis": {
           "colorbar": {
            "outlinewidth": 0,
            "ticks": ""
           }
          },
          "colorscale": {
           "diverging": [
            [
             0,
             "#8e0152"
            ],
            [
             0.1,
             "#c51b7d"
            ],
            [
             0.2,
             "#de77ae"
            ],
            [
             0.3,
             "#f1b6da"
            ],
            [
             0.4,
             "#fde0ef"
            ],
            [
             0.5,
             "#f7f7f7"
            ],
            [
             0.6,
             "#e6f5d0"
            ],
            [
             0.7,
             "#b8e186"
            ],
            [
             0.8,
             "#7fbc41"
            ],
            [
             0.9,
             "#4d9221"
            ],
            [
             1,
             "#276419"
            ]
           ],
           "sequential": [
            [
             0,
             "#0d0887"
            ],
            [
             0.1111111111111111,
             "#46039f"
            ],
            [
             0.2222222222222222,
             "#7201a8"
            ],
            [
             0.3333333333333333,
             "#9c179e"
            ],
            [
             0.4444444444444444,
             "#bd3786"
            ],
            [
             0.5555555555555556,
             "#d8576b"
            ],
            [
             0.6666666666666666,
             "#ed7953"
            ],
            [
             0.7777777777777778,
             "#fb9f3a"
            ],
            [
             0.8888888888888888,
             "#fdca26"
            ],
            [
             1,
             "#f0f921"
            ]
           ],
           "sequentialminus": [
            [
             0,
             "#0d0887"
            ],
            [
             0.1111111111111111,
             "#46039f"
            ],
            [
             0.2222222222222222,
             "#7201a8"
            ],
            [
             0.3333333333333333,
             "#9c179e"
            ],
            [
             0.4444444444444444,
             "#bd3786"
            ],
            [
             0.5555555555555556,
             "#d8576b"
            ],
            [
             0.6666666666666666,
             "#ed7953"
            ],
            [
             0.7777777777777778,
             "#fb9f3a"
            ],
            [
             0.8888888888888888,
             "#fdca26"
            ],
            [
             1,
             "#f0f921"
            ]
           ]
          },
          "colorway": [
           "#636efa",
           "#EF553B",
           "#00cc96",
           "#ab63fa",
           "#FFA15A",
           "#19d3f3",
           "#FF6692",
           "#B6E880",
           "#FF97FF",
           "#FECB52"
          ],
          "font": {
           "color": "#2a3f5f"
          },
          "geo": {
           "bgcolor": "white",
           "lakecolor": "white",
           "landcolor": "#E5ECF6",
           "showlakes": true,
           "showland": true,
           "subunitcolor": "white"
          },
          "hoverlabel": {
           "align": "left"
          },
          "hovermode": "closest",
          "mapbox": {
           "style": "light"
          },
          "paper_bgcolor": "white",
          "plot_bgcolor": "#E5ECF6",
          "polar": {
           "angularaxis": {
            "gridcolor": "white",
            "linecolor": "white",
            "ticks": ""
           },
           "bgcolor": "#E5ECF6",
           "radialaxis": {
            "gridcolor": "white",
            "linecolor": "white",
            "ticks": ""
           }
          },
          "scene": {
           "xaxis": {
            "backgroundcolor": "#E5ECF6",
            "gridcolor": "white",
            "gridwidth": 2,
            "linecolor": "white",
            "showbackground": true,
            "ticks": "",
            "zerolinecolor": "white"
           },
           "yaxis": {
            "backgroundcolor": "#E5ECF6",
            "gridcolor": "white",
            "gridwidth": 2,
            "linecolor": "white",
            "showbackground": true,
            "ticks": "",
            "zerolinecolor": "white"
           },
           "zaxis": {
            "backgroundcolor": "#E5ECF6",
            "gridcolor": "white",
            "gridwidth": 2,
            "linecolor": "white",
            "showbackground": true,
            "ticks": "",
            "zerolinecolor": "white"
           }
          },
          "shapedefaults": {
           "line": {
            "color": "#2a3f5f"
           }
          },
          "ternary": {
           "aaxis": {
            "gridcolor": "white",
            "linecolor": "white",
            "ticks": ""
           },
           "baxis": {
            "gridcolor": "white",
            "linecolor": "white",
            "ticks": ""
           },
           "bgcolor": "#E5ECF6",
           "caxis": {
            "gridcolor": "white",
            "linecolor": "white",
            "ticks": ""
           }
          },
          "title": {
           "x": 0.05
          },
          "xaxis": {
           "automargin": true,
           "gridcolor": "white",
           "linecolor": "white",
           "ticks": "",
           "title": {
            "standoff": 15
           },
           "zerolinecolor": "white",
           "zerolinewidth": 2
          },
          "yaxis": {
           "automargin": true,
           "gridcolor": "white",
           "linecolor": "white",
           "ticks": "",
           "title": {
            "standoff": 15
           },
           "zerolinecolor": "white",
           "zerolinewidth": 2
          }
         }
        },
        "title": {
         "text": "EC Shallow"
        },
        "xaxis": {
         "range": [
          -101.06592978027459,
          -101.06571698339155
         ],
         "scaleanchor": "y",
         "scaleratio": 1,
         "title": {
          "text": "Longitude"
         }
        },
        "yaxis": {
         "range": [
          39.38692244767901,
          39.387006036750165
         ],
         "title": {
          "text": "Latitude"
         }
        }
       }
      }
     },
     "metadata": {},
     "output_type": "display_data"
    }
   ],
   "source": [
    "import plotly.graph_objects as go\n",
    "import numpy as np\n",
    "import xarray as xr\n",
    "\n",
    "# Set up Plotly figure\n",
    "fig = go.Figure()\n",
    "\n",
    "# Convert boundary data to list to make it compatible with Plotly\n",
    "boundary_x, boundary_y = map(list, plot_boundary.loc[0, 'geometry'].boundary.xy)\n",
    "fig.add_trace(go.Scatter(x=boundary_x, y=boundary_y, mode='lines', line=dict(color='black', width=3), name='Boundary'))\n",
    "\n",
    "# Generate EC_shallow data by applying the clip function and extracting the NumPy array\n",
    "ec_shallow_data = plot_boundary.apply(\n",
    "    lambda row: clip_fn(row, ec_raster_shallow).values if isinstance(clip_fn(row, ec_raster_shallow), xr.DataArray) \n",
    "    else clip_fn(row, ec_raster_shallow), \n",
    "    axis=1\n",
    ")\n",
    "\n",
    "# Convert ec_shallow_data to a 2D NumPy array for Heatmap plotting, if necessary\n",
    "ec_shallow_data_flattened = [np.array(data).flatten() if isinstance(data, (np.ndarray, list)) else np.array([data]) for data in ec_shallow_data]\n",
    "max_length = max(len(data) for data in ec_shallow_data_flattened)\n",
    "ec_shallow_data_padded = np.array([np.pad(data, (0, max_length - len(data)), mode='constant', constant_values=np.nan) for data in ec_shallow_data_flattened])\n",
    "\n",
    "# Plot the EC_shallow data as a heatmap\n",
    "fig.add_trace(go.Heatmap(\n",
    "    z=ec_shallow_data_padded,\n",
    "    colorscale='Inferno',\n",
    "    name='EC Shallow',\n",
    "    colorbar=dict(title='EC Value'),\n",
    "    x=boundary_x,  # Use boundary_x as longitude\n",
    "    y=boundary_y   # Use boundary_y as latitude\n",
    "))\n",
    "\n",
    "# Set the axis range to zoom in on the specific area of interest\n",
    "fig.update_xaxes(range=[min(boundary_x), max(boundary_x)])\n",
    "fig.update_yaxes(range=[min(boundary_y), max(boundary_y)])\n",
    "\n",
    "# Update layout with title and axis labels\n",
    "fig.update_layout(\n",
    "    title='EC Shallow',\n",
    "    xaxis_title='Longitude',\n",
    "    yaxis_title='Latitude',\n",
    "    xaxis=dict(scaleanchor=\"y\", scaleratio=1),\n",
    ")\n",
    "\n",
    "# Show plot\n",
    "fig.show()\n"
   ]
  },
  {
   "cell_type": "code",
   "execution_count": 7,
   "metadata": {},
   "outputs": [
    {
     "ename": "ValueError",
     "evalue": "setting an array element with a sequence. The requested array has an inhomogeneous shape after 1 dimensions. The detected shape was (138,) + inhomogeneous part.",
     "output_type": "error",
     "traceback": [
      "\u001b[0;31m---------------------------------------------------------------------------\u001b[0m",
      "\u001b[0;31mValueError\u001b[0m                                Traceback (most recent call last)",
      "Cell \u001b[0;32mIn[7], line 28\u001b[0m\n\u001b[1;32m     25\u001b[0m aspect_ratio \u001b[38;5;241m=\u001b[39m (lat_max \u001b[38;5;241m-\u001b[39m lat_min) \u001b[38;5;241m/\u001b[39m (lon_max \u001b[38;5;241m-\u001b[39m lon_min)\n\u001b[1;32m     27\u001b[0m \u001b[38;5;66;03m# Reshape or resize ec_shallow_data to fit within the extent\u001b[39;00m\n\u001b[0;32m---> 28\u001b[0m ec_shallow_data_resized \u001b[38;5;241m=\u001b[39m \u001b[43mnp\u001b[49m\u001b[38;5;241;43m.\u001b[39;49m\u001b[43marray\u001b[49m\u001b[43m(\u001b[49m\u001b[43m[\u001b[49m\u001b[43mnp\u001b[49m\u001b[38;5;241;43m.\u001b[39;49m\u001b[43mresize\u001b[49m\u001b[43m(\u001b[49m\u001b[43mdata\u001b[49m\u001b[43m,\u001b[49m\u001b[43m \u001b[49m\u001b[43m(\u001b[49m\u001b[38;5;28;43mint\u001b[39;49m\u001b[43m(\u001b[49m\u001b[38;5;28;43mlen\u001b[39;49m\u001b[43m(\u001b[49m\u001b[43mdata\u001b[49m\u001b[43m)\u001b[49m\u001b[43m \u001b[49m\u001b[38;5;241;43m*\u001b[39;49m\u001b[43m \u001b[49m\u001b[43maspect_ratio\u001b[49m\u001b[43m)\u001b[49m\u001b[43m,\u001b[49m\u001b[43m \u001b[49m\u001b[38;5;28;43mlen\u001b[39;49m\u001b[43m(\u001b[49m\u001b[43mdata\u001b[49m\u001b[43m)\u001b[49m\u001b[43m)\u001b[49m\u001b[43m)\u001b[49m\u001b[43m \u001b[49m\u001b[38;5;28;43;01mfor\u001b[39;49;00m\u001b[43m \u001b[49m\u001b[43mdata\u001b[49m\u001b[43m \u001b[49m\u001b[38;5;129;43;01min\u001b[39;49;00m\u001b[43m \u001b[49m\u001b[43mec_shallow_data_flattened\u001b[49m\u001b[43m]\u001b[49m\u001b[43m)\u001b[49m\n\u001b[1;32m     30\u001b[0m \u001b[38;5;66;03m# Plot the EC_shallow data as a heatmap with explicit coordinates\u001b[39;00m\n\u001b[1;32m     31\u001b[0m fig\u001b[38;5;241m.\u001b[39madd_trace(go\u001b[38;5;241m.\u001b[39mHeatmap(\n\u001b[1;32m     32\u001b[0m     z\u001b[38;5;241m=\u001b[39mec_shallow_data_resized,\n\u001b[1;32m     33\u001b[0m     colorscale\u001b[38;5;241m=\u001b[39m\u001b[38;5;124m'\u001b[39m\u001b[38;5;124mInferno\u001b[39m\u001b[38;5;124m'\u001b[39m,\n\u001b[0;32m   (...)\u001b[0m\n\u001b[1;32m     37\u001b[0m     y\u001b[38;5;241m=\u001b[39mnp\u001b[38;5;241m.\u001b[39mlinspace(lat_min, lat_max, ec_shallow_data_resized\u001b[38;5;241m.\u001b[39mshape[\u001b[38;5;241m0\u001b[39m])   \u001b[38;5;66;03m# Latitude range\u001b[39;00m\n\u001b[1;32m     38\u001b[0m ))\n",
      "\u001b[0;31mValueError\u001b[0m: setting an array element with a sequence. The requested array has an inhomogeneous shape after 1 dimensions. The detected shape was (138,) + inhomogeneous part."
     ]
    }
   ],
   "source": [
    "import plotly.graph_objects as go\n",
    "import numpy as np\n",
    "import xarray as xr\n",
    "\n",
    "# Set up Plotly figure\n",
    "fig = go.Figure()\n",
    "\n",
    "# Convert boundary data to list to make it compatible with Plotly\n",
    "boundary_x, boundary_y = map(list, plot_boundary.loc[0, 'geometry'].boundary.xy)\n",
    "fig.add_trace(go.Scatter(x=boundary_x, y=boundary_y, mode='lines', line=dict(color='black', width=3), name='Boundary'))\n",
    "\n",
    "# Generate EC_shallow data by applying the clip function and extracting the NumPy array\n",
    "ec_shallow_data = plot_boundary.apply(\n",
    "    lambda row: clip_fn(row, ec_raster_shallow).values if isinstance(clip_fn(row, ec_raster_shallow), xr.DataArray) \n",
    "    else clip_fn(row, ec_raster_shallow), \n",
    "    axis=1\n",
    ")\n",
    "\n",
    "# Convert ec_shallow_data to a 2D NumPy array for Heatmap plotting, if necessary\n",
    "ec_shallow_data_flattened = [np.array(data).flatten() if isinstance(data, (np.ndarray, list)) else np.array([data]) for data in ec_shallow_data]\n",
    "\n",
    "# Calculate aspect ratio based on boundary extents\n",
    "lon_min, lon_max = min(boundary_x), max(boundary_x)\n",
    "lat_min, lat_max = min(boundary_y), max(boundary_y)\n",
    "aspect_ratio = (lat_max - lat_min) / (lon_max - lon_min)\n",
    "\n",
    "# Reshape or resize ec_shallow_data to fit within the extent\n",
    "ec_shallow_data_resized = np.array([np.resize(data, (int(len(data) * aspect_ratio), len(data))) for data in ec_shallow_data_flattened])\n",
    "\n",
    "# Plot the EC_shallow data as a heatmap with explicit coordinates\n",
    "fig.add_trace(go.Heatmap(\n",
    "    z=ec_shallow_data_resized,\n",
    "    colorscale='Inferno',\n",
    "    name='EC Shallow',\n",
    "    colorbar=dict(title='EC Value'),\n",
    "    x=np.linspace(lon_min, lon_max, ec_shallow_data_resized.shape[1]),  # Longitude range\n",
    "    y=np.linspace(lat_min, lat_max, ec_shallow_data_resized.shape[0])   # Latitude range\n",
    "))\n",
    "\n",
    "# Set the axis range to zoom in on the specific area of interest\n",
    "fig.update_xaxes(range=[lon_min, lon_max])\n",
    "fig.update_yaxes(range=[lat_min, lat_max])\n",
    "\n",
    "# Update layout with title and axis labels\n",
    "fig.update_layout(\n",
    "    title='EC Shallow',\n",
    "    xaxis_title='Longitude',\n",
    "    yaxis_title='Latitude',\n",
    "    xaxis=dict(scaleanchor=\"y\", scaleratio=1),\n",
    ")\n",
    "\n",
    "# Show plot\n",
    "fig.show()\n"
   ]
  },
  {
   "cell_type": "code",
   "execution_count": null,
   "metadata": {},
   "outputs": [],
   "source": []
  }
 ],
 "metadata": {
  "kernelspec": {
   "display_name": "vEnv",
   "language": "python",
   "name": "python3"
  },
  "language_info": {
   "codemirror_mode": {
    "name": "ipython",
    "version": 3
   },
   "file_extension": ".py",
   "mimetype": "text/x-python",
   "name": "python",
   "nbconvert_exporter": "python",
   "pygments_lexer": "ipython3",
   "version": "3.9.6"
  }
 },
 "nbformat": 4,
 "nbformat_minor": 2
}
